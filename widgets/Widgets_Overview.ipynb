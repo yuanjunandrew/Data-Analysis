{
  "cells": [
    {
      "cell_type": "markdown",
      "metadata": {
        "id": "6F3yJk9Rb6ws"
      },
      "source": [
        "# Introduction: IPython Widgets\n",
        "\n",
        "In this notebook, we will get an introduction to IPython widgets. These are tools that allow us to build interactivity into our notebooks often with a single line of code. These widgets are very useful for data exploration and analysis, for example, selecting certain data or updating charts. In effect, Widgets allow you to make Jupyter Notebooks into an interactive dashboard instead of a static document."
      ]
    },
    {
      "cell_type": "markdown",
      "metadata": {
        "id": "RUo84eXeb6wu"
      },
      "source": [
        "Run the below cell if needed. You can also do this from the command line. If in Jupyter lab, [check out the instructions for that environment](https://ipywidgets.readthedocs.io/en/stable/user_install.html). "
      ]
    },
    {
      "cell_type": "code",
      "execution_count": 1,
      "metadata": {
        "ExecuteTime": {
          "end_time": "2019-02-11T21:59:15.249992Z",
          "start_time": "2019-02-11T21:59:12.848653Z"
        },
        "id": "_BdjVQKYb6wu",
        "outputId": "10d4f993-4580-48a4-848b-4772c9175e47",
        "colab": {
          "base_uri": "https://localhost:8080/"
        }
      },
      "outputs": [
        {
          "output_type": "stream",
          "name": "stdout",
          "text": [
            "Enabling notebook extension jupyter-js-widgets/extension...\n",
            "Paths used for configuration of notebook: \n",
            "    \t/root/.jupyter/nbconfig/notebook.json\n",
            "      - Validating: \u001b[32mOK\u001b[0m\n",
            "Paths used for configuration of notebook: \n",
            "    \t/root/.jupyter/nbconfig/notebook.json\n"
          ]
        }
      ],
      "source": [
        "!pip install -U -q ipywidgets\n",
        "!jupyter nbextension enable --py widgetsnbextension"
      ]
    },
    {
      "cell_type": "code",
      "source": [
        "! pip install plotly==3.10.0"
      ],
      "metadata": {
        "id": "FFEUFsrudOhd",
        "outputId": "01b1771d-f944-4053-fc6b-678901890cd8",
        "colab": {
          "base_uri": "https://localhost:8080/"
        }
      },
      "execution_count": 2,
      "outputs": [
        {
          "output_type": "stream",
          "name": "stdout",
          "text": [
            "Looking in indexes: https://pypi.org/simple, https://us-python.pkg.dev/colab-wheels/public/simple/\n",
            "Requirement already satisfied: plotly==3.10.0 in /usr/local/lib/python3.7/dist-packages (3.10.0)\n",
            "Requirement already satisfied: six in /usr/local/lib/python3.7/dist-packages (from plotly==3.10.0) (1.15.0)\n",
            "Requirement already satisfied: decorator>=4.0.6 in /usr/local/lib/python3.7/dist-packages (from plotly==3.10.0) (4.4.2)\n",
            "Requirement already satisfied: requests in /usr/local/lib/python3.7/dist-packages (from plotly==3.10.0) (2.23.0)\n",
            "Requirement already satisfied: nbformat>=4.2 in /usr/local/lib/python3.7/dist-packages (from plotly==3.10.0) (5.4.0)\n",
            "Requirement already satisfied: pytz in /usr/local/lib/python3.7/dist-packages (from plotly==3.10.0) (2022.1)\n",
            "Requirement already satisfied: retrying>=1.3.3 in /usr/local/lib/python3.7/dist-packages (from plotly==3.10.0) (1.3.3)\n",
            "Requirement already satisfied: jupyter-core in /usr/local/lib/python3.7/dist-packages (from nbformat>=4.2->plotly==3.10.0) (4.10.0)\n",
            "Requirement already satisfied: fastjsonschema in /usr/local/lib/python3.7/dist-packages (from nbformat>=4.2->plotly==3.10.0) (2.15.3)\n",
            "Requirement already satisfied: traitlets>=5.1 in /usr/local/lib/python3.7/dist-packages (from nbformat>=4.2->plotly==3.10.0) (5.1.1)\n",
            "Requirement already satisfied: jsonschema>=2.6 in /usr/local/lib/python3.7/dist-packages (from nbformat>=4.2->plotly==3.10.0) (4.3.3)\n",
            "Requirement already satisfied: importlib-metadata in /usr/local/lib/python3.7/dist-packages (from jsonschema>=2.6->nbformat>=4.2->plotly==3.10.0) (4.11.4)\n",
            "Requirement already satisfied: pyrsistent!=0.17.0,!=0.17.1,!=0.17.2,>=0.14.0 in /usr/local/lib/python3.7/dist-packages (from jsonschema>=2.6->nbformat>=4.2->plotly==3.10.0) (0.18.1)\n",
            "Requirement already satisfied: attrs>=17.4.0 in /usr/local/lib/python3.7/dist-packages (from jsonschema>=2.6->nbformat>=4.2->plotly==3.10.0) (21.4.0)\n",
            "Requirement already satisfied: importlib-resources>=1.4.0 in /usr/local/lib/python3.7/dist-packages (from jsonschema>=2.6->nbformat>=4.2->plotly==3.10.0) (5.7.1)\n",
            "Requirement already satisfied: typing-extensions in /usr/local/lib/python3.7/dist-packages (from jsonschema>=2.6->nbformat>=4.2->plotly==3.10.0) (4.1.1)\n",
            "Requirement already satisfied: zipp>=3.1.0 in /usr/local/lib/python3.7/dist-packages (from importlib-resources>=1.4.0->jsonschema>=2.6->nbformat>=4.2->plotly==3.10.0) (3.8.0)\n",
            "Requirement already satisfied: urllib3!=1.25.0,!=1.25.1,<1.26,>=1.21.1 in /usr/local/lib/python3.7/dist-packages (from requests->plotly==3.10.0) (1.24.3)\n",
            "Requirement already satisfied: chardet<4,>=3.0.2 in /usr/local/lib/python3.7/dist-packages (from requests->plotly==3.10.0) (3.0.4)\n",
            "Requirement already satisfied: idna<3,>=2.5 in /usr/local/lib/python3.7/dist-packages (from requests->plotly==3.10.0) (2.10)\n",
            "Requirement already satisfied: certifi>=2017.4.17 in /usr/local/lib/python3.7/dist-packages (from requests->plotly==3.10.0) (2022.6.15)\n"
          ]
        }
      ]
    },
    {
      "cell_type": "markdown",
      "metadata": {
        "id": "HfC5F6JTb6ww"
      },
      "source": [
        "These are the other imports will use. "
      ]
    },
    {
      "cell_type": "code",
      "execution_count": 4,
      "metadata": {
        "ExecuteTime": {
          "end_time": "2019-02-11T21:59:16.649010Z",
          "start_time": "2019-02-11T21:59:15.252863Z"
        },
        "id": "JMHY5wiob6wx",
        "outputId": "9d396c67-c25a-406a-c8be-4c6967798602",
        "colab": {
          "base_uri": "https://localhost:8080/",
          "height": 17
        }
      },
      "outputs": [
        {
          "output_type": "display_data",
          "data": {
            "text/html": [
              "        <script type=\"text/javascript\">\n",
              "        window.PlotlyConfig = {MathJaxConfig: 'local'};\n",
              "        if (window.MathJax) {MathJax.Hub.Config({SVG: {font: \"STIX-Web\"}});}\n",
              "        if (typeof require !== 'undefined') {\n",
              "        require.undef(\"plotly\");\n",
              "        requirejs.config({\n",
              "            paths: {\n",
              "                'plotly': ['https://cdn.plot.ly/plotly-latest.min']\n",
              "            }\n",
              "        });\n",
              "        require(['plotly'], function(Plotly) {\n",
              "            window._Plotly = Plotly;\n",
              "        });\n",
              "        }\n",
              "        </script>\n",
              "        "
            ]
          },
          "metadata": {}
        },
        {
          "output_type": "display_data",
          "data": {
            "text/html": [
              "        <script type=\"text/javascript\">\n",
              "        window.PlotlyConfig = {MathJaxConfig: 'local'};\n",
              "        if (window.MathJax) {MathJax.Hub.Config({SVG: {font: \"STIX-Web\"}});}\n",
              "        if (typeof require !== 'undefined') {\n",
              "        require.undef(\"plotly\");\n",
              "        requirejs.config({\n",
              "            paths: {\n",
              "                'plotly': ['https://cdn.plot.ly/plotly-latest.min']\n",
              "            }\n",
              "        });\n",
              "        require(['plotly'], function(Plotly) {\n",
              "            window._Plotly = Plotly;\n",
              "        });\n",
              "        }\n",
              "        </script>\n",
              "        "
            ]
          },
          "metadata": {}
        }
      ],
      "source": [
        "# Standard Data Science Helpers\n",
        "import numpy as np\n",
        "import pandas as pd\n",
        "import scipy\n",
        "\n",
        "import plotly.plotly as py\n",
        "import plotly.graph_objs as go\n",
        "from plotly.offline import iplot, init_notebook_mode\n",
        "init_notebook_mode(connected=True)\n",
        "\n",
        "import cufflinks as cf\n",
        "cf.go_offline(connected=True)\n",
        "cf.set_config_file(colorscale='plotly', world_readable=True)\n",
        "\n",
        "# Extra options\n",
        "pd.options.display.max_rows = 30\n",
        "pd.options.display.max_columns = 25\n",
        "\n",
        "# Show all code cells outputs\n",
        "from IPython.core.interactiveshell import InteractiveShell\n",
        "InteractiveShell.ast_node_interactivity = 'all'"
      ]
    },
    {
      "cell_type": "code",
      "execution_count": 5,
      "metadata": {
        "ExecuteTime": {
          "end_time": "2019-02-11T21:59:16.677478Z",
          "start_time": "2019-02-11T21:59:16.650547Z"
        },
        "id": "TW36Q9sYb6wy"
      },
      "outputs": [],
      "source": [
        "import os\n",
        "from IPython.display import Image, display, HTML"
      ]
    },
    {
      "cell_type": "markdown",
      "metadata": {
        "id": "TT0fyZWCb6wy"
      },
      "source": [
        "## Data\n",
        "\n",
        "For this project, we'll work with my medium stats data. You can grab your own data or just use mine! "
      ]
    },
    {
      "cell_type": "code",
      "execution_count": 6,
      "metadata": {
        "ExecuteTime": {
          "end_time": "2019-02-11T21:59:17.739135Z",
          "start_time": "2019-02-11T21:59:16.679089Z"
        },
        "id": "pHA_3NU4b6wz",
        "outputId": "8b6d434e-f402-40db-cdd8-b17752bd57a3",
        "colab": {
          "base_uri": "https://localhost:8080/",
          "height": 652
        }
      },
      "outputs": [
        {
          "output_type": "execute_result",
          "data": {
            "text/plain": [
              "     claps  days_since_publication  fans  \\\n",
              "129      2              597.301123     2   \n",
              "125     18              589.983168     3   \n",
              "132     51              577.363292    20   \n",
              "126      0              576.520688     0   \n",
              "121      0              572.533035     0   \n",
              "\n",
              "                                                  link  num_responses  \\\n",
              "129  https://medium.com/p/screw-the-environment-but...              0   \n",
              "125  https://medium.com/p/the-vanquishing-of-war-pl...              0   \n",
              "132  https://medium.com/p/capstone-project-mercedes...              0   \n",
              "126  https://medium.com/p/home-of-the-scared-5af0fe...              0   \n",
              "121  https://medium.com/p/the-triumph-of-peace-f485...              0   \n",
              "\n",
              "    publication      published_date  read_ratio  read_time  reads  \\\n",
              "129        None 2017-06-10 14:25:00       42.17          7     70   \n",
              "125        None 2017-06-17 22:02:00       30.34         14     54   \n",
              "132        None 2017-06-30 12:55:00       20.02         42    222   \n",
              "126        None 2017-07-01 09:08:00       35.85          9     19   \n",
              "121        None 2017-07-05 08:51:00        8.47         14      5   \n",
              "\n",
              "           started_date                                           tags  \\\n",
              "129 2017-06-10 14:24:00                    [Climate Change, Economics]   \n",
              "125 2017-06-17 22:02:00  [Climate Change, Humanity, Optimism, History]   \n",
              "132 2017-06-30 12:00:00    [Machine Learning, Python, Udacity, Kaggle]   \n",
              "126 2017-06-30 18:21:00       [Politics, Books, News, Media Criticism]   \n",
              "121 2017-07-03 20:18:00         [Books, Psychology, History, Humanism]   \n",
              "\n",
              "                                                  text  \\\n",
              "129  Screw the Environment, but Consider Your Walle...   \n",
              "125  The Vanquishing of War, Plague and Famine Part...   \n",
              "132  Capstone Project: Mercedes-Benz Greener Manufa...   \n",
              "126  Home of the Scared A review of A Culture of Fe...   \n",
              "121  The Triumph of Peace A review of The Better An...   \n",
              "\n",
              "                                                 title  title_word_count  \\\n",
              "129    Screw the Environment, but Consider Your Wallet                 8   \n",
              "125          The Vanquishing of War, Plague and Famine                 8   \n",
              "132  Capstone Project: Mercedes-Benz Greener Manufa...                 7   \n",
              "126                                 Home of the Scared                 4   \n",
              "121                               The Triumph of Peace                 4   \n",
              "\n",
              "          type  views  word_count  claps_per_word  editing_days  \\\n",
              "129  published    166        1859        0.001076             0   \n",
              "125  published    178        3891        0.004626             0   \n",
              "132  published   1109       12025        0.004241             0   \n",
              "126  published     53        2533        0.000000             0   \n",
              "121  published     59        3892        0.000000             1   \n",
              "\n",
              "     <tag>Education  <tag>Data Science  <tag>Towards Data Science  \\\n",
              "129               0                  0                          0   \n",
              "125               0                  0                          0   \n",
              "132               0                  0                          0   \n",
              "126               0                  0                          0   \n",
              "121               0                  0                          0   \n",
              "\n",
              "     <tag>Machine Learning  <tag>Python  \n",
              "129                      0            0  \n",
              "125                      0            0  \n",
              "132                      1            1  \n",
              "126                      0            0  \n",
              "121                      0            0  "
            ],
            "text/html": [
              "\n",
              "  <div id=\"df-0601aac3-e5cc-4194-a560-255c933fe179\">\n",
              "    <div class=\"colab-df-container\">\n",
              "      <div>\n",
              "<style scoped>\n",
              "    .dataframe tbody tr th:only-of-type {\n",
              "        vertical-align: middle;\n",
              "    }\n",
              "\n",
              "    .dataframe tbody tr th {\n",
              "        vertical-align: top;\n",
              "    }\n",
              "\n",
              "    .dataframe thead th {\n",
              "        text-align: right;\n",
              "    }\n",
              "</style>\n",
              "<table border=\"1\" class=\"dataframe\">\n",
              "  <thead>\n",
              "    <tr style=\"text-align: right;\">\n",
              "      <th></th>\n",
              "      <th>claps</th>\n",
              "      <th>days_since_publication</th>\n",
              "      <th>fans</th>\n",
              "      <th>link</th>\n",
              "      <th>num_responses</th>\n",
              "      <th>publication</th>\n",
              "      <th>published_date</th>\n",
              "      <th>read_ratio</th>\n",
              "      <th>read_time</th>\n",
              "      <th>reads</th>\n",
              "      <th>started_date</th>\n",
              "      <th>tags</th>\n",
              "      <th>text</th>\n",
              "      <th>title</th>\n",
              "      <th>title_word_count</th>\n",
              "      <th>type</th>\n",
              "      <th>views</th>\n",
              "      <th>word_count</th>\n",
              "      <th>claps_per_word</th>\n",
              "      <th>editing_days</th>\n",
              "      <th>&lt;tag&gt;Education</th>\n",
              "      <th>&lt;tag&gt;Data Science</th>\n",
              "      <th>&lt;tag&gt;Towards Data Science</th>\n",
              "      <th>&lt;tag&gt;Machine Learning</th>\n",
              "      <th>&lt;tag&gt;Python</th>\n",
              "    </tr>\n",
              "  </thead>\n",
              "  <tbody>\n",
              "    <tr>\n",
              "      <th>129</th>\n",
              "      <td>2</td>\n",
              "      <td>597.301123</td>\n",
              "      <td>2</td>\n",
              "      <td>https://medium.com/p/screw-the-environment-but...</td>\n",
              "      <td>0</td>\n",
              "      <td>None</td>\n",
              "      <td>2017-06-10 14:25:00</td>\n",
              "      <td>42.17</td>\n",
              "      <td>7</td>\n",
              "      <td>70</td>\n",
              "      <td>2017-06-10 14:24:00</td>\n",
              "      <td>[Climate Change, Economics]</td>\n",
              "      <td>Screw the Environment, but Consider Your Walle...</td>\n",
              "      <td>Screw the Environment, but Consider Your Wallet</td>\n",
              "      <td>8</td>\n",
              "      <td>published</td>\n",
              "      <td>166</td>\n",
              "      <td>1859</td>\n",
              "      <td>0.001076</td>\n",
              "      <td>0</td>\n",
              "      <td>0</td>\n",
              "      <td>0</td>\n",
              "      <td>0</td>\n",
              "      <td>0</td>\n",
              "      <td>0</td>\n",
              "    </tr>\n",
              "    <tr>\n",
              "      <th>125</th>\n",
              "      <td>18</td>\n",
              "      <td>589.983168</td>\n",
              "      <td>3</td>\n",
              "      <td>https://medium.com/p/the-vanquishing-of-war-pl...</td>\n",
              "      <td>0</td>\n",
              "      <td>None</td>\n",
              "      <td>2017-06-17 22:02:00</td>\n",
              "      <td>30.34</td>\n",
              "      <td>14</td>\n",
              "      <td>54</td>\n",
              "      <td>2017-06-17 22:02:00</td>\n",
              "      <td>[Climate Change, Humanity, Optimism, History]</td>\n",
              "      <td>The Vanquishing of War, Plague and Famine Part...</td>\n",
              "      <td>The Vanquishing of War, Plague and Famine</td>\n",
              "      <td>8</td>\n",
              "      <td>published</td>\n",
              "      <td>178</td>\n",
              "      <td>3891</td>\n",
              "      <td>0.004626</td>\n",
              "      <td>0</td>\n",
              "      <td>0</td>\n",
              "      <td>0</td>\n",
              "      <td>0</td>\n",
              "      <td>0</td>\n",
              "      <td>0</td>\n",
              "    </tr>\n",
              "    <tr>\n",
              "      <th>132</th>\n",
              "      <td>51</td>\n",
              "      <td>577.363292</td>\n",
              "      <td>20</td>\n",
              "      <td>https://medium.com/p/capstone-project-mercedes...</td>\n",
              "      <td>0</td>\n",
              "      <td>None</td>\n",
              "      <td>2017-06-30 12:55:00</td>\n",
              "      <td>20.02</td>\n",
              "      <td>42</td>\n",
              "      <td>222</td>\n",
              "      <td>2017-06-30 12:00:00</td>\n",
              "      <td>[Machine Learning, Python, Udacity, Kaggle]</td>\n",
              "      <td>Capstone Project: Mercedes-Benz Greener Manufa...</td>\n",
              "      <td>Capstone Project: Mercedes-Benz Greener Manufa...</td>\n",
              "      <td>7</td>\n",
              "      <td>published</td>\n",
              "      <td>1109</td>\n",
              "      <td>12025</td>\n",
              "      <td>0.004241</td>\n",
              "      <td>0</td>\n",
              "      <td>0</td>\n",
              "      <td>0</td>\n",
              "      <td>0</td>\n",
              "      <td>1</td>\n",
              "      <td>1</td>\n",
              "    </tr>\n",
              "    <tr>\n",
              "      <th>126</th>\n",
              "      <td>0</td>\n",
              "      <td>576.520688</td>\n",
              "      <td>0</td>\n",
              "      <td>https://medium.com/p/home-of-the-scared-5af0fe...</td>\n",
              "      <td>0</td>\n",
              "      <td>None</td>\n",
              "      <td>2017-07-01 09:08:00</td>\n",
              "      <td>35.85</td>\n",
              "      <td>9</td>\n",
              "      <td>19</td>\n",
              "      <td>2017-06-30 18:21:00</td>\n",
              "      <td>[Politics, Books, News, Media Criticism]</td>\n",
              "      <td>Home of the Scared A review of A Culture of Fe...</td>\n",
              "      <td>Home of the Scared</td>\n",
              "      <td>4</td>\n",
              "      <td>published</td>\n",
              "      <td>53</td>\n",
              "      <td>2533</td>\n",
              "      <td>0.000000</td>\n",
              "      <td>0</td>\n",
              "      <td>0</td>\n",
              "      <td>0</td>\n",
              "      <td>0</td>\n",
              "      <td>0</td>\n",
              "      <td>0</td>\n",
              "    </tr>\n",
              "    <tr>\n",
              "      <th>121</th>\n",
              "      <td>0</td>\n",
              "      <td>572.533035</td>\n",
              "      <td>0</td>\n",
              "      <td>https://medium.com/p/the-triumph-of-peace-f485...</td>\n",
              "      <td>0</td>\n",
              "      <td>None</td>\n",
              "      <td>2017-07-05 08:51:00</td>\n",
              "      <td>8.47</td>\n",
              "      <td>14</td>\n",
              "      <td>5</td>\n",
              "      <td>2017-07-03 20:18:00</td>\n",
              "      <td>[Books, Psychology, History, Humanism]</td>\n",
              "      <td>The Triumph of Peace A review of The Better An...</td>\n",
              "      <td>The Triumph of Peace</td>\n",
              "      <td>4</td>\n",
              "      <td>published</td>\n",
              "      <td>59</td>\n",
              "      <td>3892</td>\n",
              "      <td>0.000000</td>\n",
              "      <td>1</td>\n",
              "      <td>0</td>\n",
              "      <td>0</td>\n",
              "      <td>0</td>\n",
              "      <td>0</td>\n",
              "      <td>0</td>\n",
              "    </tr>\n",
              "  </tbody>\n",
              "</table>\n",
              "</div>\n",
              "      <button class=\"colab-df-convert\" onclick=\"convertToInteractive('df-0601aac3-e5cc-4194-a560-255c933fe179')\"\n",
              "              title=\"Convert this dataframe to an interactive table.\"\n",
              "              style=\"display:none;\">\n",
              "        \n",
              "  <svg xmlns=\"http://www.w3.org/2000/svg\" height=\"24px\"viewBox=\"0 0 24 24\"\n",
              "       width=\"24px\">\n",
              "    <path d=\"M0 0h24v24H0V0z\" fill=\"none\"/>\n",
              "    <path d=\"M18.56 5.44l.94 2.06.94-2.06 2.06-.94-2.06-.94-.94-2.06-.94 2.06-2.06.94zm-11 1L8.5 8.5l.94-2.06 2.06-.94-2.06-.94L8.5 2.5l-.94 2.06-2.06.94zm10 10l.94 2.06.94-2.06 2.06-.94-2.06-.94-.94-2.06-.94 2.06-2.06.94z\"/><path d=\"M17.41 7.96l-1.37-1.37c-.4-.4-.92-.59-1.43-.59-.52 0-1.04.2-1.43.59L10.3 9.45l-7.72 7.72c-.78.78-.78 2.05 0 2.83L4 21.41c.39.39.9.59 1.41.59.51 0 1.02-.2 1.41-.59l7.78-7.78 2.81-2.81c.8-.78.8-2.07 0-2.86zM5.41 20L4 18.59l7.72-7.72 1.47 1.35L5.41 20z\"/>\n",
              "  </svg>\n",
              "      </button>\n",
              "      \n",
              "  <style>\n",
              "    .colab-df-container {\n",
              "      display:flex;\n",
              "      flex-wrap:wrap;\n",
              "      gap: 12px;\n",
              "    }\n",
              "\n",
              "    .colab-df-convert {\n",
              "      background-color: #E8F0FE;\n",
              "      border: none;\n",
              "      border-radius: 50%;\n",
              "      cursor: pointer;\n",
              "      display: none;\n",
              "      fill: #1967D2;\n",
              "      height: 32px;\n",
              "      padding: 0 0 0 0;\n",
              "      width: 32px;\n",
              "    }\n",
              "\n",
              "    .colab-df-convert:hover {\n",
              "      background-color: #E2EBFA;\n",
              "      box-shadow: 0px 1px 2px rgba(60, 64, 67, 0.3), 0px 1px 3px 1px rgba(60, 64, 67, 0.15);\n",
              "      fill: #174EA6;\n",
              "    }\n",
              "\n",
              "    [theme=dark] .colab-df-convert {\n",
              "      background-color: #3B4455;\n",
              "      fill: #D2E3FC;\n",
              "    }\n",
              "\n",
              "    [theme=dark] .colab-df-convert:hover {\n",
              "      background-color: #434B5C;\n",
              "      box-shadow: 0px 1px 3px 1px rgba(0, 0, 0, 0.15);\n",
              "      filter: drop-shadow(0px 1px 2px rgba(0, 0, 0, 0.3));\n",
              "      fill: #FFFFFF;\n",
              "    }\n",
              "  </style>\n",
              "\n",
              "      <script>\n",
              "        const buttonEl =\n",
              "          document.querySelector('#df-0601aac3-e5cc-4194-a560-255c933fe179 button.colab-df-convert');\n",
              "        buttonEl.style.display =\n",
              "          google.colab.kernel.accessAllowed ? 'block' : 'none';\n",
              "\n",
              "        async function convertToInteractive(key) {\n",
              "          const element = document.querySelector('#df-0601aac3-e5cc-4194-a560-255c933fe179');\n",
              "          const dataTable =\n",
              "            await google.colab.kernel.invokeFunction('convertToInteractive',\n",
              "                                                     [key], {});\n",
              "          if (!dataTable) return;\n",
              "\n",
              "          const docLinkHtml = 'Like what you see? Visit the ' +\n",
              "            '<a target=\"_blank\" href=https://colab.research.google.com/notebooks/data_table.ipynb>data table notebook</a>'\n",
              "            + ' to learn more about interactive tables.';\n",
              "          element.innerHTML = '';\n",
              "          dataTable['output_type'] = 'display_data';\n",
              "          await google.colab.output.renderOutput(dataTable, element);\n",
              "          const docLink = document.createElement('div');\n",
              "          docLink.innerHTML = docLinkHtml;\n",
              "          element.appendChild(docLink);\n",
              "        }\n",
              "      </script>\n",
              "    </div>\n",
              "  </div>\n",
              "  "
            ]
          },
          "metadata": {},
          "execution_count": 6
        }
      ],
      "source": [
        "df = pd.read_parquet('https://github.com/WillKoehrsen/Data-Analysis/blob/master/medium/data/medium_data_2019_01_26?raw=true')\n",
        "df.head()"
      ]
    },
    {
      "cell_type": "code",
      "execution_count": 7,
      "metadata": {
        "ExecuteTime": {
          "end_time": "2019-02-11T21:59:17.847235Z",
          "start_time": "2019-02-11T21:59:17.741021Z"
        },
        "id": "69-E9WYMb6wz",
        "outputId": "fd1f5e4a-253e-4845-fcbe-05cb369240ab",
        "colab": {
          "base_uri": "https://localhost:8080/",
          "height": 381
        }
      },
      "outputs": [
        {
          "output_type": "execute_result",
          "data": {
            "text/plain": [
              "              claps  days_since_publication         fans  num_responses  \\\n",
              "count    133.000000              133.000000   133.000000     133.000000   \n",
              "mean    1815.263158              248.407273   352.052632       7.045113   \n",
              "std     2449.074661              179.370879   479.060117       9.056108   \n",
              "min        0.000000                1.218629     0.000000       0.000000   \n",
              "25%      121.000000               74.543822    23.000000       0.000000   \n",
              "50%      815.000000              245.416130   136.000000       4.000000   \n",
              "75%     2700.000000              376.080598   528.000000      12.000000   \n",
              "max    13600.000000              597.301123  2588.000000      59.000000   \n",
              "\n",
              "       read_ratio   read_time         reads  title_word_count          views  \\\n",
              "count  133.000000  133.000000    133.000000        133.000000     133.000000   \n",
              "mean    29.074662   12.917293   6336.300752          7.127820   23404.030075   \n",
              "std     12.417670    9.510795   9007.284726          3.158475   33995.636496   \n",
              "min      8.110000    1.000000      1.000000          2.000000       3.000000   \n",
              "25%     20.020000    8.000000    363.000000          5.000000    1375.000000   \n",
              "50%     27.060000   10.000000   2049.000000          7.000000    7608.000000   \n",
              "75%     34.910000   14.000000   7815.000000          8.000000   30141.000000   \n",
              "max     74.370000   54.000000  41978.000000         16.000000  173714.000000   \n",
              "\n",
              "         word_count  claps_per_word  editing_days  <tag>Education  \\\n",
              "count    133.000000      133.000000    133.000000      133.000000   \n",
              "mean    3029.120301        0.957638     20.330827        0.729323   \n",
              "std     2393.414456        1.846756     74.111579        0.445989   \n",
              "min      163.000000        0.000000    -13.000000        0.000000   \n",
              "25%     1653.000000        0.052115      0.000000        0.000000   \n",
              "50%     2456.000000        0.421525      1.000000        1.000000   \n",
              "75%     3553.000000        1.099366      5.000000        1.000000   \n",
              "max    15063.000000       17.891817    349.000000        1.000000   \n",
              "\n",
              "       <tag>Data Science  <tag>Towards Data Science  <tag>Machine Learning  \\\n",
              "count         133.000000                 133.000000             133.000000   \n",
              "mean            0.609023                   0.436090               0.383459   \n",
              "std             0.489814                   0.497774               0.488067   \n",
              "min             0.000000                   0.000000               0.000000   \n",
              "25%             0.000000                   0.000000               0.000000   \n",
              "50%             1.000000                   0.000000               0.000000   \n",
              "75%             1.000000                   1.000000               1.000000   \n",
              "max             1.000000                   1.000000               1.000000   \n",
              "\n",
              "       <tag>Python  \n",
              "count   133.000000  \n",
              "mean      0.315789  \n",
              "std       0.466587  \n",
              "min       0.000000  \n",
              "25%       0.000000  \n",
              "50%       0.000000  \n",
              "75%       1.000000  \n",
              "max       1.000000  "
            ],
            "text/html": [
              "\n",
              "  <div id=\"df-ffab1345-b4c1-4f4c-ac0f-6c4bb75ce15c\">\n",
              "    <div class=\"colab-df-container\">\n",
              "      <div>\n",
              "<style scoped>\n",
              "    .dataframe tbody tr th:only-of-type {\n",
              "        vertical-align: middle;\n",
              "    }\n",
              "\n",
              "    .dataframe tbody tr th {\n",
              "        vertical-align: top;\n",
              "    }\n",
              "\n",
              "    .dataframe thead th {\n",
              "        text-align: right;\n",
              "    }\n",
              "</style>\n",
              "<table border=\"1\" class=\"dataframe\">\n",
              "  <thead>\n",
              "    <tr style=\"text-align: right;\">\n",
              "      <th></th>\n",
              "      <th>claps</th>\n",
              "      <th>days_since_publication</th>\n",
              "      <th>fans</th>\n",
              "      <th>num_responses</th>\n",
              "      <th>read_ratio</th>\n",
              "      <th>read_time</th>\n",
              "      <th>reads</th>\n",
              "      <th>title_word_count</th>\n",
              "      <th>views</th>\n",
              "      <th>word_count</th>\n",
              "      <th>claps_per_word</th>\n",
              "      <th>editing_days</th>\n",
              "      <th>&lt;tag&gt;Education</th>\n",
              "      <th>&lt;tag&gt;Data Science</th>\n",
              "      <th>&lt;tag&gt;Towards Data Science</th>\n",
              "      <th>&lt;tag&gt;Machine Learning</th>\n",
              "      <th>&lt;tag&gt;Python</th>\n",
              "    </tr>\n",
              "  </thead>\n",
              "  <tbody>\n",
              "    <tr>\n",
              "      <th>count</th>\n",
              "      <td>133.000000</td>\n",
              "      <td>133.000000</td>\n",
              "      <td>133.000000</td>\n",
              "      <td>133.000000</td>\n",
              "      <td>133.000000</td>\n",
              "      <td>133.000000</td>\n",
              "      <td>133.000000</td>\n",
              "      <td>133.000000</td>\n",
              "      <td>133.000000</td>\n",
              "      <td>133.000000</td>\n",
              "      <td>133.000000</td>\n",
              "      <td>133.000000</td>\n",
              "      <td>133.000000</td>\n",
              "      <td>133.000000</td>\n",
              "      <td>133.000000</td>\n",
              "      <td>133.000000</td>\n",
              "      <td>133.000000</td>\n",
              "    </tr>\n",
              "    <tr>\n",
              "      <th>mean</th>\n",
              "      <td>1815.263158</td>\n",
              "      <td>248.407273</td>\n",
              "      <td>352.052632</td>\n",
              "      <td>7.045113</td>\n",
              "      <td>29.074662</td>\n",
              "      <td>12.917293</td>\n",
              "      <td>6336.300752</td>\n",
              "      <td>7.127820</td>\n",
              "      <td>23404.030075</td>\n",
              "      <td>3029.120301</td>\n",
              "      <td>0.957638</td>\n",
              "      <td>20.330827</td>\n",
              "      <td>0.729323</td>\n",
              "      <td>0.609023</td>\n",
              "      <td>0.436090</td>\n",
              "      <td>0.383459</td>\n",
              "      <td>0.315789</td>\n",
              "    </tr>\n",
              "    <tr>\n",
              "      <th>std</th>\n",
              "      <td>2449.074661</td>\n",
              "      <td>179.370879</td>\n",
              "      <td>479.060117</td>\n",
              "      <td>9.056108</td>\n",
              "      <td>12.417670</td>\n",
              "      <td>9.510795</td>\n",
              "      <td>9007.284726</td>\n",
              "      <td>3.158475</td>\n",
              "      <td>33995.636496</td>\n",
              "      <td>2393.414456</td>\n",
              "      <td>1.846756</td>\n",
              "      <td>74.111579</td>\n",
              "      <td>0.445989</td>\n",
              "      <td>0.489814</td>\n",
              "      <td>0.497774</td>\n",
              "      <td>0.488067</td>\n",
              "      <td>0.466587</td>\n",
              "    </tr>\n",
              "    <tr>\n",
              "      <th>min</th>\n",
              "      <td>0.000000</td>\n",
              "      <td>1.218629</td>\n",
              "      <td>0.000000</td>\n",
              "      <td>0.000000</td>\n",
              "      <td>8.110000</td>\n",
              "      <td>1.000000</td>\n",
              "      <td>1.000000</td>\n",
              "      <td>2.000000</td>\n",
              "      <td>3.000000</td>\n",
              "      <td>163.000000</td>\n",
              "      <td>0.000000</td>\n",
              "      <td>-13.000000</td>\n",
              "      <td>0.000000</td>\n",
              "      <td>0.000000</td>\n",
              "      <td>0.000000</td>\n",
              "      <td>0.000000</td>\n",
              "      <td>0.000000</td>\n",
              "    </tr>\n",
              "    <tr>\n",
              "      <th>25%</th>\n",
              "      <td>121.000000</td>\n",
              "      <td>74.543822</td>\n",
              "      <td>23.000000</td>\n",
              "      <td>0.000000</td>\n",
              "      <td>20.020000</td>\n",
              "      <td>8.000000</td>\n",
              "      <td>363.000000</td>\n",
              "      <td>5.000000</td>\n",
              "      <td>1375.000000</td>\n",
              "      <td>1653.000000</td>\n",
              "      <td>0.052115</td>\n",
              "      <td>0.000000</td>\n",
              "      <td>0.000000</td>\n",
              "      <td>0.000000</td>\n",
              "      <td>0.000000</td>\n",
              "      <td>0.000000</td>\n",
              "      <td>0.000000</td>\n",
              "    </tr>\n",
              "    <tr>\n",
              "      <th>50%</th>\n",
              "      <td>815.000000</td>\n",
              "      <td>245.416130</td>\n",
              "      <td>136.000000</td>\n",
              "      <td>4.000000</td>\n",
              "      <td>27.060000</td>\n",
              "      <td>10.000000</td>\n",
              "      <td>2049.000000</td>\n",
              "      <td>7.000000</td>\n",
              "      <td>7608.000000</td>\n",
              "      <td>2456.000000</td>\n",
              "      <td>0.421525</td>\n",
              "      <td>1.000000</td>\n",
              "      <td>1.000000</td>\n",
              "      <td>1.000000</td>\n",
              "      <td>0.000000</td>\n",
              "      <td>0.000000</td>\n",
              "      <td>0.000000</td>\n",
              "    </tr>\n",
              "    <tr>\n",
              "      <th>75%</th>\n",
              "      <td>2700.000000</td>\n",
              "      <td>376.080598</td>\n",
              "      <td>528.000000</td>\n",
              "      <td>12.000000</td>\n",
              "      <td>34.910000</td>\n",
              "      <td>14.000000</td>\n",
              "      <td>7815.000000</td>\n",
              "      <td>8.000000</td>\n",
              "      <td>30141.000000</td>\n",
              "      <td>3553.000000</td>\n",
              "      <td>1.099366</td>\n",
              "      <td>5.000000</td>\n",
              "      <td>1.000000</td>\n",
              "      <td>1.000000</td>\n",
              "      <td>1.000000</td>\n",
              "      <td>1.000000</td>\n",
              "      <td>1.000000</td>\n",
              "    </tr>\n",
              "    <tr>\n",
              "      <th>max</th>\n",
              "      <td>13600.000000</td>\n",
              "      <td>597.301123</td>\n",
              "      <td>2588.000000</td>\n",
              "      <td>59.000000</td>\n",
              "      <td>74.370000</td>\n",
              "      <td>54.000000</td>\n",
              "      <td>41978.000000</td>\n",
              "      <td>16.000000</td>\n",
              "      <td>173714.000000</td>\n",
              "      <td>15063.000000</td>\n",
              "      <td>17.891817</td>\n",
              "      <td>349.000000</td>\n",
              "      <td>1.000000</td>\n",
              "      <td>1.000000</td>\n",
              "      <td>1.000000</td>\n",
              "      <td>1.000000</td>\n",
              "      <td>1.000000</td>\n",
              "    </tr>\n",
              "  </tbody>\n",
              "</table>\n",
              "</div>\n",
              "      <button class=\"colab-df-convert\" onclick=\"convertToInteractive('df-ffab1345-b4c1-4f4c-ac0f-6c4bb75ce15c')\"\n",
              "              title=\"Convert this dataframe to an interactive table.\"\n",
              "              style=\"display:none;\">\n",
              "        \n",
              "  <svg xmlns=\"http://www.w3.org/2000/svg\" height=\"24px\"viewBox=\"0 0 24 24\"\n",
              "       width=\"24px\">\n",
              "    <path d=\"M0 0h24v24H0V0z\" fill=\"none\"/>\n",
              "    <path d=\"M18.56 5.44l.94 2.06.94-2.06 2.06-.94-2.06-.94-.94-2.06-.94 2.06-2.06.94zm-11 1L8.5 8.5l.94-2.06 2.06-.94-2.06-.94L8.5 2.5l-.94 2.06-2.06.94zm10 10l.94 2.06.94-2.06 2.06-.94-2.06-.94-.94-2.06-.94 2.06-2.06.94z\"/><path d=\"M17.41 7.96l-1.37-1.37c-.4-.4-.92-.59-1.43-.59-.52 0-1.04.2-1.43.59L10.3 9.45l-7.72 7.72c-.78.78-.78 2.05 0 2.83L4 21.41c.39.39.9.59 1.41.59.51 0 1.02-.2 1.41-.59l7.78-7.78 2.81-2.81c.8-.78.8-2.07 0-2.86zM5.41 20L4 18.59l7.72-7.72 1.47 1.35L5.41 20z\"/>\n",
              "  </svg>\n",
              "      </button>\n",
              "      \n",
              "  <style>\n",
              "    .colab-df-container {\n",
              "      display:flex;\n",
              "      flex-wrap:wrap;\n",
              "      gap: 12px;\n",
              "    }\n",
              "\n",
              "    .colab-df-convert {\n",
              "      background-color: #E8F0FE;\n",
              "      border: none;\n",
              "      border-radius: 50%;\n",
              "      cursor: pointer;\n",
              "      display: none;\n",
              "      fill: #1967D2;\n",
              "      height: 32px;\n",
              "      padding: 0 0 0 0;\n",
              "      width: 32px;\n",
              "    }\n",
              "\n",
              "    .colab-df-convert:hover {\n",
              "      background-color: #E2EBFA;\n",
              "      box-shadow: 0px 1px 2px rgba(60, 64, 67, 0.3), 0px 1px 3px 1px rgba(60, 64, 67, 0.15);\n",
              "      fill: #174EA6;\n",
              "    }\n",
              "\n",
              "    [theme=dark] .colab-df-convert {\n",
              "      background-color: #3B4455;\n",
              "      fill: #D2E3FC;\n",
              "    }\n",
              "\n",
              "    [theme=dark] .colab-df-convert:hover {\n",
              "      background-color: #434B5C;\n",
              "      box-shadow: 0px 1px 3px 1px rgba(0, 0, 0, 0.15);\n",
              "      filter: drop-shadow(0px 1px 2px rgba(0, 0, 0, 0.3));\n",
              "      fill: #FFFFFF;\n",
              "    }\n",
              "  </style>\n",
              "\n",
              "      <script>\n",
              "        const buttonEl =\n",
              "          document.querySelector('#df-ffab1345-b4c1-4f4c-ac0f-6c4bb75ce15c button.colab-df-convert');\n",
              "        buttonEl.style.display =\n",
              "          google.colab.kernel.accessAllowed ? 'block' : 'none';\n",
              "\n",
              "        async function convertToInteractive(key) {\n",
              "          const element = document.querySelector('#df-ffab1345-b4c1-4f4c-ac0f-6c4bb75ce15c');\n",
              "          const dataTable =\n",
              "            await google.colab.kernel.invokeFunction('convertToInteractive',\n",
              "                                                     [key], {});\n",
              "          if (!dataTable) return;\n",
              "\n",
              "          const docLinkHtml = 'Like what you see? Visit the ' +\n",
              "            '<a target=\"_blank\" href=https://colab.research.google.com/notebooks/data_table.ipynb>data table notebook</a>'\n",
              "            + ' to learn more about interactive tables.';\n",
              "          element.innerHTML = '';\n",
              "          dataTable['output_type'] = 'display_data';\n",
              "          await google.colab.output.renderOutput(dataTable, element);\n",
              "          const docLink = document.createElement('div');\n",
              "          docLink.innerHTML = docLinkHtml;\n",
              "          element.appendChild(docLink);\n",
              "        }\n",
              "      </script>\n",
              "    </div>\n",
              "  </div>\n",
              "  "
            ]
          },
          "metadata": {},
          "execution_count": 7
        }
      ],
      "source": [
        "df.describe()"
      ]
    },
    {
      "cell_type": "markdown",
      "metadata": {
        "id": "c0ElNBzSb6w0"
      },
      "source": [
        "# Simple Widgets\n",
        "\n",
        "Let's get started using some widgets! We'll start off pretty simple just to see how the interface works."
      ]
    },
    {
      "cell_type": "code",
      "execution_count": 8,
      "metadata": {
        "ExecuteTime": {
          "end_time": "2019-02-11T21:59:17.894781Z",
          "start_time": "2019-02-11T21:59:17.849710Z"
        },
        "id": "4ChCNakrb6w0"
      },
      "outputs": [],
      "source": [
        "import ipywidgets as widgets\n",
        "from ipywidgets import interact, interact_manual"
      ]
    },
    {
      "cell_type": "markdown",
      "metadata": {
        "id": "wk0P4tnjb6w0"
      },
      "source": [
        "To make a function interactive, all we have to do is use the `interact` decorator. This will automatically infer the input types for us! "
      ]
    },
    {
      "cell_type": "code",
      "execution_count": 9,
      "metadata": {
        "ExecuteTime": {
          "end_time": "2019-02-11T21:59:18.144261Z",
          "start_time": "2019-02-11T21:59:17.897741Z"
        },
        "id": "0cMFF3Fmb6w1",
        "outputId": "3ca6da34-a2c8-4b3d-fcee-2029b7f42442",
        "colab": {
          "base_uri": "https://localhost:8080/",
          "height": 548,
          "referenced_widgets": [
            "129aab2c33774544b580caa4d84d53de",
            "81002dd244b84e459d498d8dcaa3cd9d",
            "4fccb75e83844433a43bf6899aa42920",
            "f8e15c8f4e814766b7c497fda3967117",
            "70d5b36323fd44b1a4f657a9ae982ead",
            "c99e3599cb6041fb8cf04fa795a158e4",
            "1ff75ef074e2411991aa29e9d80a181b",
            "91e9e8532f134c16a5fabd851879af96",
            "9735c5e694284bc4a14e15001970633e",
            "111a4327fd184864a0a73c147eb4af94"
          ]
        }
      },
      "outputs": [
        {
          "output_type": "display_data",
          "data": {
            "text/plain": [
              "interactive(children=(Text(value='claps', description='column'), IntSlider(value=5000, description='x', max=15…"
            ],
            "application/vnd.jupyter.widget-view+json": {
              "version_major": 2,
              "version_minor": 0,
              "model_id": "129aab2c33774544b580caa4d84d53de"
            }
          },
          "metadata": {}
        }
      ],
      "source": [
        "@interact\n",
        "def show_articles_more_than(column='claps', x=5000):\n",
        "    display(HTML(f'<h2>Showing articles with more than {x} {column}<h2>'))\n",
        "    display(df.loc[df[column] > x, ['title', 'published_date', 'read_time', 'tags', 'views', 'reads']])"
      ]
    },
    {
      "cell_type": "markdown",
      "metadata": {
        "id": "tMOxep2lb6w1"
      },
      "source": [
        "The `interact` decorator automatically inferred we want a `text` box for the `column` and an `int` slider for `x`! This makes it incredibly simple to add interactivity. We can also set the options how we want."
      ]
    },
    {
      "cell_type": "code",
      "execution_count": 10,
      "metadata": {
        "ExecuteTime": {
          "end_time": "2019-02-11T21:59:18.251039Z",
          "start_time": "2019-02-11T21:59:18.147133Z"
        },
        "id": "clvRhPRpb6w2",
        "outputId": "92c84fe2-3193-485f-9777-1fb573f525f5",
        "colab": {
          "base_uri": "https://localhost:8080/",
          "height": 488,
          "referenced_widgets": [
            "bb849e2e0fdb432782a63ef156e7ae89",
            "9040fa1fb04e431fa3a2dbe0f9bbc9e6",
            "d5884c21240e4326aa23f98f473344ed",
            "d21ceb19f76b4182b755de0040ed1b08",
            "19f8370705d347499a1a9d8826177972",
            "ccc026dc291444648328037cf99ceb19",
            "6f6aa32d3f254352b6bb9928fad7cf74",
            "8626a62c23784d0fa115430eae70ce18",
            "ede4e353f4b24c8db1ead9b75bad799e",
            "38c6d45a23764b1e80009deb5f6963b6"
          ]
        }
      },
      "outputs": [
        {
          "output_type": "display_data",
          "data": {
            "text/plain": [
              "interactive(children=(IntSlider(value=3000, description='x', max=5000, min=1000, step=100), Dropdown(descripti…"
            ],
            "application/vnd.jupyter.widget-view+json": {
              "version_major": 2,
              "version_minor": 0,
              "model_id": "bb849e2e0fdb432782a63ef156e7ae89"
            }
          },
          "metadata": {}
        }
      ],
      "source": [
        "@interact\n",
        "def show_titles_more_than(x=(1000, 5000, 100),\n",
        "                          column=list(df.select_dtypes('number').columns), \n",
        "                          ):\n",
        "    # display(HTML(f'<h2>Showing articles with more than {x} {column}<h2>'))\n",
        "    display(df.loc[df[column] > x, ['title', 'published_date', 'read_time', 'tags', 'views', 'reads']])"
      ]
    },
    {
      "cell_type": "markdown",
      "metadata": {
        "id": "xmnhFmdlb6w2"
      },
      "source": [
        "This now gives us a `dropdown` for the `column` selection and still an `int` slider for `x`, but with limits. This can be useful when we need to enforce certains constraints on the interaction."
      ]
    },
    {
      "cell_type": "markdown",
      "metadata": {
        "id": "b72tafPCb6w3"
      },
      "source": [
        "# Image Explorer\n",
        "\n",
        "Let's see another quick example of creating an interactive function. This one allows us to display images from a folder."
      ]
    },
    {
      "cell_type": "code",
      "execution_count": 12,
      "metadata": {
        "ExecuteTime": {
          "end_time": "2019-02-11T21:59:18.359381Z",
          "start_time": "2019-02-11T21:59:18.253803Z"
        },
        "id": "i0cwWjfmb6w3",
        "outputId": "b83cda1d-6a65-4065-961a-aa25a3218405",
        "colab": {
          "base_uri": "https://localhost:8080/",
          "height": 218
        }
      },
      "outputs": [
        {
          "output_type": "error",
          "ename": "FileNotFoundError",
          "evalue": "ignored",
          "traceback": [
            "\u001b[0;31m---------------------------------------------------------------------------\u001b[0m",
            "\u001b[0;31mFileNotFoundError\u001b[0m                         Traceback (most recent call last)",
            "\u001b[0;32m<ipython-input-12-97ead13b88d9>\u001b[0m in \u001b[0;36m<module>\u001b[0;34m()\u001b[0m\n\u001b[1;32m      2\u001b[0m \u001b[0;34m\u001b[0m\u001b[0m\n\u001b[1;32m      3\u001b[0m \u001b[0;34m@\u001b[0m\u001b[0minteract\u001b[0m\u001b[0;34m\u001b[0m\u001b[0;34m\u001b[0m\u001b[0m\n\u001b[0;32m----> 4\u001b[0;31m \u001b[0;32mdef\u001b[0m \u001b[0mshow_images\u001b[0m\u001b[0;34m(\u001b[0m\u001b[0mfile\u001b[0m\u001b[0;34m=\u001b[0m\u001b[0mos\u001b[0m\u001b[0;34m.\u001b[0m\u001b[0mlistdir\u001b[0m\u001b[0;34m(\u001b[0m\u001b[0mfdir\u001b[0m\u001b[0;34m)\u001b[0m\u001b[0;34m)\u001b[0m\u001b[0;34m:\u001b[0m\u001b[0;34m\u001b[0m\u001b[0;34m\u001b[0m\u001b[0m\n\u001b[0m\u001b[1;32m      5\u001b[0m     \u001b[0mdisplay\u001b[0m\u001b[0;34m(\u001b[0m\u001b[0mImage\u001b[0m\u001b[0;34m(\u001b[0m\u001b[0mfdir\u001b[0m\u001b[0;34m+\u001b[0m\u001b[0mfile\u001b[0m\u001b[0;34m)\u001b[0m\u001b[0;34m)\u001b[0m\u001b[0;34m\u001b[0m\u001b[0;34m\u001b[0m\u001b[0m\n",
            "\u001b[0;31mFileNotFoundError\u001b[0m: [Errno 2] No such file or directory: 'nature/'"
          ]
        }
      ],
      "source": [
        "fdir = 'nature/'\n",
        "\n",
        "@interact\n",
        "def show_images(file=os.listdir(fdir)):\n",
        "    display(Image(fdir+file))"
      ]
    },
    {
      "cell_type": "markdown",
      "metadata": {
        "id": "ynbWdIszb6w3"
      },
      "source": [
        "You could use this for example if you have a training set of images that you'd quickly like to run through."
      ]
    },
    {
      "cell_type": "markdown",
      "metadata": {
        "id": "6YY7aDb9b6w4"
      },
      "source": [
        "# File Browser\n",
        "\n",
        "We can do a similar operation to create a very basic file browser. Instead of having to manually run the command every time, we just can use this function to look through our files."
      ]
    },
    {
      "cell_type": "code",
      "execution_count": null,
      "metadata": {
        "ExecuteTime": {
          "end_time": "2019-02-11T21:59:18.526419Z",
          "start_time": "2019-02-11T21:59:18.361052Z"
        },
        "id": "76tx3lWLb6w4"
      },
      "outputs": [],
      "source": [
        "!ls -a -t -r -l"
      ]
    },
    {
      "cell_type": "code",
      "execution_count": null,
      "metadata": {
        "ExecuteTime": {
          "end_time": "2019-02-11T21:59:18.608223Z",
          "start_time": "2019-02-11T21:59:18.528880Z"
        },
        "id": "lzEsQ759b6w4"
      },
      "outputs": [],
      "source": [
        "import subprocess\n",
        "import pprint\n",
        "\n",
        "root_dir = '../'\n",
        "dirs = [d for d in os.listdir(root_dir) if not '.' in d]\n",
        "\n",
        "@interact\n",
        "def show_dir(dir=dirs):\n",
        "    x = subprocess.check_output(f\"cd {root_dir}{dir} && ls -a -t -r -l -h\", shell=True).decode()\n",
        "    print(x)"
      ]
    },
    {
      "cell_type": "markdown",
      "metadata": {
        "id": "hcfeRT-yb6w5"
      },
      "source": [
        "# Dataframe Explorer\n",
        "\n",
        "Let's look at a few more examples of using widgets to explore data. Here we create a widget that quickly lets us find correlations between columns."
      ]
    },
    {
      "cell_type": "code",
      "execution_count": null,
      "metadata": {
        "ExecuteTime": {
          "end_time": "2019-02-11T21:59:18.682329Z",
          "start_time": "2019-02-11T21:59:18.610843Z"
        },
        "id": "wDdZAfKtb6w5"
      },
      "outputs": [],
      "source": [
        "@interact\n",
        "def correlations(column1=list(df.select_dtypes('number').columns), \n",
        "                 column2=list(df.select_dtypes('number').columns)):\n",
        "    print(f\"Correlation: {df[column1].corr(df[column2])}\")"
      ]
    },
    {
      "cell_type": "markdown",
      "metadata": {
        "id": "Vz8Dyiyub6w6"
      },
      "source": [
        "Here's one to describe a specific column."
      ]
    },
    {
      "cell_type": "code",
      "execution_count": null,
      "metadata": {
        "ExecuteTime": {
          "end_time": "2019-02-11T21:59:18.734969Z",
          "start_time": "2019-02-11T21:59:18.683939Z"
        },
        "id": "KwtnW62Qb6w6"
      },
      "outputs": [],
      "source": [
        "@interact\n",
        "def describe(column=list(df.columns)):\n",
        "    print(df[column].describe())"
      ]
    },
    {
      "cell_type": "markdown",
      "metadata": {
        "id": "CRWeF-Ujb6w7"
      },
      "source": [
        "# Interactive Widgets for Plots\n",
        "\n",
        "We can use the same basic approach to create interactive widgets for plots. This expands the capabilities of the already powerful plotly visualization library."
      ]
    },
    {
      "cell_type": "code",
      "execution_count": null,
      "metadata": {
        "ExecuteTime": {
          "end_time": "2019-02-11T21:59:19.742380Z",
          "start_time": "2019-02-11T21:59:18.736434Z"
        },
        "id": "-M_JDUyWb6w7"
      },
      "outputs": [],
      "source": [
        "@interact\n",
        "def scatter_plot(x=list(df.select_dtypes('number').columns), \n",
        "                 y=list(df.select_dtypes('number').columns)[1:]):\n",
        "    df.iplot(kind='scatter', x=x, y=y, mode='markers', \n",
        "             xTitle=x.title(), yTitle=y.title(), title=f'{y.title()} vs {x.title()}')"
      ]
    },
    {
      "cell_type": "markdown",
      "metadata": {
        "id": "eFwPwMJYb6w8"
      },
      "source": [
        "Let's add some options to control the column scheme."
      ]
    },
    {
      "cell_type": "code",
      "execution_count": null,
      "metadata": {
        "ExecuteTime": {
          "end_time": "2019-02-11T21:59:20.056907Z",
          "start_time": "2019-02-11T21:59:19.745853Z"
        },
        "id": "nVf5ban-b6w9"
      },
      "outputs": [],
      "source": [
        "@interact\n",
        "def scatter_plot(x=list(df.select_dtypes('number').columns), \n",
        "                 y=list(df.select_dtypes('number').columns)[1:],\n",
        "                 theme=list(cf.themes.THEMES.keys()), \n",
        "                 colorscale=list(cf.colors._scales_names.keys())):\n",
        "    \n",
        "    df.iplot(kind='scatter', x=x, y=y, mode='markers', \n",
        "             xTitle=x.title(), yTitle=y.title(), \n",
        "             text='title',\n",
        "             title=f'{y.title()} vs {x.title()}',\n",
        "            theme=theme, colorscale=colorscale)"
      ]
    },
    {
      "cell_type": "markdown",
      "metadata": {
        "id": "XsuY7eTyb6w9"
      },
      "source": [
        "The next plot lets us choose the grouping category for the plot. "
      ]
    },
    {
      "cell_type": "code",
      "execution_count": null,
      "metadata": {
        "ExecuteTime": {
          "end_time": "2019-02-11T21:59:20.694691Z",
          "start_time": "2019-02-11T21:59:20.059308Z"
        },
        "id": "RwIBdsDKb6w-"
      },
      "outputs": [],
      "source": [
        "df['binned_read_time'] = pd.cut(df['read_time'], bins=range(0, 56, 5))\n",
        "df['binned_read_time'] = df['binned_read_time'].astype(str)\n",
        "\n",
        "df['binned_word_count'] = pd.cut(df['word_count'], bins=range(0, 100001, 1000))\n",
        "df['binned_word_count'] = df['binned_word_count'].astype(str)\n",
        "\n",
        "@interact\n",
        "def scatter_plot(x=list(df.select_dtypes('number').columns), \n",
        "                 y=list(df.select_dtypes('number').columns)[1:],\n",
        "                 categories=['binned_read_time', 'binned_word_count', 'publication', 'type'],\n",
        "                 theme=list(cf.themes.THEMES.keys()), \n",
        "                 colorscale=list(cf.colors._scales_names.keys())):\n",
        "    \n",
        "    df.iplot(kind='scatter', x=x, y=y, mode='markers', \n",
        "             categories=categories, \n",
        "             xTitle=x.title(), yTitle=y.title(), \n",
        "             text='title',\n",
        "             title=f'{y.title()} vs {x.title()}',\n",
        "             theme=theme, colorscale=colorscale)"
      ]
    },
    {
      "cell_type": "markdown",
      "metadata": {
        "id": "ni8sV4lwb6w_"
      },
      "source": [
        "You may have noticed this plot was a little slow to update. When that is the case, we can use `interact_manual` which only updates the function when the button is pressed."
      ]
    },
    {
      "cell_type": "code",
      "execution_count": null,
      "metadata": {
        "ExecuteTime": {
          "end_time": "2019-02-11T21:59:20.751182Z",
          "start_time": "2019-02-11T21:59:20.696239Z"
        },
        "id": "M7r7Ca-Ab6w_"
      },
      "outputs": [],
      "source": [
        "from ipywidgets import interact_manual"
      ]
    },
    {
      "cell_type": "code",
      "execution_count": null,
      "metadata": {
        "ExecuteTime": {
          "end_time": "2019-02-11T21:59:20.859857Z",
          "start_time": "2019-02-11T21:59:20.753440Z"
        },
        "id": "4J81JEodb6xA"
      },
      "outputs": [],
      "source": [
        "@interact_manual\n",
        "def scatter_plot(x=list(df.select_dtypes('number').columns), \n",
        "                 y=list(df.select_dtypes('number').columns)[1:],\n",
        "                 categories=['binned_read_time', 'binned_word_count', 'publication', 'type'],\n",
        "                 theme=list(cf.themes.THEMES.keys()), \n",
        "                 colorscale=list(cf.colors._scales_names.keys())):\n",
        "    \n",
        "    df.iplot(kind='scatter', x=x, y=y, mode='markers', \n",
        "             categories=categories, \n",
        "             xTitle=x.title(), yTitle=y.title(), \n",
        "             text='title',\n",
        "             title=f'{y.title()} vs {x.title()}',\n",
        "             theme=theme, colorscale=colorscale)"
      ]
    },
    {
      "cell_type": "markdown",
      "metadata": {
        "id": "XLSrFuyVb6xA"
      },
      "source": [
        "# Making Our Own Widgets\n",
        "\n",
        "The decorator `interact` (or `interact_manual`) is not the only way to use widgets. We can also explicity create our own. One of the most useful I've found is the `DataPicker`."
      ]
    },
    {
      "cell_type": "code",
      "execution_count": null,
      "metadata": {
        "ExecuteTime": {
          "end_time": "2019-02-11T21:59:20.916568Z",
          "start_time": "2019-02-11T21:59:20.861736Z"
        },
        "id": "_JzcMNO_b6xB"
      },
      "outputs": [],
      "source": [
        "df.set_index('published_date', inplace=True)"
      ]
    },
    {
      "cell_type": "code",
      "execution_count": null,
      "metadata": {
        "ExecuteTime": {
          "end_time": "2019-02-11T21:59:21.047340Z",
          "start_time": "2019-02-11T21:59:20.920596Z"
        },
        "id": "7oaKhPdjb6xB"
      },
      "outputs": [],
      "source": [
        "def print_articles_published(start_date, end_date):\n",
        "    start_date = pd.Timestamp(start_date)\n",
        "    end_date = pd.Timestamp(end_date)\n",
        "    stat_df = df.loc[(df.index >= start_date) & (df.index <= end_date)].copy()\n",
        "    total_words = stat_df['word_count'].sum()\n",
        "    total_read_time = stat_df['read_time'].sum()\n",
        "    num_articles = len(stat_df)\n",
        "    print(f'You published {num_articles} articles between {start_date.date()} and {end_date.date()}.')\n",
        "    print(f'These articles totalled {total_words:,} words and {total_read_time/60:.2f} hours to read.')\n",
        "    \n",
        "_ = interact(print_articles_published,\n",
        "             start_date=widgets.DatePicker(value=pd.to_datetime('2018-01-01')),\n",
        "             end_date=widgets.DatePicker(value=pd.to_datetime('2019-01-01')))"
      ]
    },
    {
      "cell_type": "markdown",
      "metadata": {
        "id": "pqbmRLiKb6xB"
      },
      "source": [
        "For this function, we use a `Dropdown` and a `DatePicker` to plot one column cumulatively up to a certain time. Instead of having to write this ourselves, we can just let `ipywidgets` do all the work!"
      ]
    },
    {
      "cell_type": "code",
      "execution_count": null,
      "metadata": {
        "ExecuteTime": {
          "end_time": "2019-02-11T21:59:21.284716Z",
          "start_time": "2019-02-11T21:59:21.049952Z"
        },
        "id": "60E9fkAob6xC"
      },
      "outputs": [],
      "source": [
        "def plot_up_to(column, date):\n",
        "    date = pd.Timestamp(date)\n",
        "    plot_df = df.loc[df.index <= date].copy()\n",
        "    plot_df[column].cumsum().iplot(mode='markers+lines', \n",
        "                                   xTitle='published date',\n",
        "                                   yTitle=column, \n",
        "                                  title=f'Cumulative {column.title()} Until {date.date()}')\n",
        "    \n",
        "_ = interact(plot_up_to, column=widgets.Dropdown(options=list(df.select_dtypes('number').columns)), \n",
        "             date = widgets.DatePicker(value=pd.to_datetime('2019-01-01')))"
      ]
    },
    {
      "cell_type": "markdown",
      "metadata": {
        "id": "BIINeiNlb6xC"
      },
      "source": [
        "# Dependent Widgets\n",
        "\n",
        "How do we get a value of a widget to depend on that of another? Using the `observe` method.\n",
        "\n",
        "Going back to the Image Browser earlier, let's make a function that allows us to change the directory for the images to list."
      ]
    },
    {
      "cell_type": "code",
      "execution_count": null,
      "metadata": {
        "ExecuteTime": {
          "end_time": "2019-02-11T21:59:21.382907Z",
          "start_time": "2019-02-11T21:59:21.286742Z"
        },
        "id": "WKhB4O1Fb6xD"
      },
      "outputs": [],
      "source": [
        "directory = widgets.Dropdown(options=['images', 'nature', 'assorted'])\n",
        "images = widgets.Dropdown(options=os.listdir(directory.value))\n",
        "\n",
        "def update_images(*args):\n",
        "    images.options = os.listdir(directory.value)\n",
        "\n",
        "directory.observe(update_images, 'value')\n",
        "\n",
        "def show_images(fdir, file):\n",
        "    display(Image(f'{fdir}/{file}'))\n",
        "\n",
        "_ = interact(show_images, fdir=directory, file=images)"
      ]
    },
    {
      "cell_type": "markdown",
      "metadata": {
        "id": "asROfg2Kb6xD"
      },
      "source": [
        "We can also assign to the `interact` call and then reuse the widget. This has unintended affects though! "
      ]
    },
    {
      "cell_type": "code",
      "execution_count": null,
      "metadata": {
        "ExecuteTime": {
          "end_time": "2019-02-11T21:59:21.616488Z",
          "start_time": "2019-02-11T21:59:21.387700Z"
        },
        "id": "81bUjaqRb6xD"
      },
      "outputs": [],
      "source": [
        "def show_stats_by_tag(tag):\n",
        "    display(df.groupby(f'<tag>{tag}').describe()[['views', 'reads', 'claps', 'read_ratio']])\n",
        "    \n",
        "stats = interact(show_stats_by_tag,\n",
        "                tag=widgets.Dropdown(options=['Towards Data Science', 'Education', 'Machine Learning', 'Python', 'Data Science']))"
      ]
    },
    {
      "cell_type": "code",
      "execution_count": null,
      "metadata": {
        "ExecuteTime": {
          "end_time": "2019-02-11T21:59:21.815239Z",
          "start_time": "2019-02-11T21:59:21.620545Z"
        },
        "id": "UJ3eipBMb6xE"
      },
      "outputs": [],
      "source": [
        "stats.widget"
      ]
    },
    {
      "cell_type": "markdown",
      "metadata": {
        "id": "U7eM314Pb6xE"
      },
      "source": [
        "Now changing the value in one location changes it in both places! This can be a slight inconvenience, but on the plus side, now we can reuse the interactive element."
      ]
    },
    {
      "cell_type": "markdown",
      "metadata": {
        "id": "2oyZEPX-b6xE"
      },
      "source": [
        "# Linked Values\n",
        "\n",
        "We can link the value of two widgets to each other using the `jslink` function. This ties the values to be the same."
      ]
    },
    {
      "cell_type": "code",
      "execution_count": null,
      "metadata": {
        "ExecuteTime": {
          "end_time": "2019-02-11T21:59:21.947232Z",
          "start_time": "2019-02-11T21:59:21.817802Z"
        },
        "id": "RbCbDQpfb6xE"
      },
      "outputs": [],
      "source": [
        "def show_less_than(column1_value, column2_value):\n",
        "    display(df.loc[(df['views'] < column1_value) & \n",
        "                    (df['reads'] < column2_value), \n",
        "                   ['title', 'read_time', 'tags', 'views', 'reads']])\n",
        "        \n",
        "column1_value=widgets.IntText(value=100, label='First')\n",
        "column2_value=widgets.IntSlider(value=100, label='Second')\n",
        "\n",
        "linked = widgets.jslink((column1_value, 'value'),\n",
        "                        (column2_value, 'value'))\n",
        "\n",
        "less_than = interact(show_less_than, column1_value=column1_value,\n",
        "                 column2_value=column2_value)"
      ]
    },
    {
      "cell_type": "markdown",
      "metadata": {
        "id": "BBJZC733b6xF"
      },
      "source": [
        "I'm not exactly sure why you would want to link two widgets, but there you go! We can unlink them using the `unlink` command (sometimes syntax does make sense)."
      ]
    },
    {
      "cell_type": "code",
      "execution_count": null,
      "metadata": {
        "ExecuteTime": {
          "end_time": "2019-02-11T21:59:22.001784Z",
          "start_time": "2019-02-11T21:59:21.948880Z"
        },
        "id": "2rwXpoDHb6xF"
      },
      "outputs": [],
      "source": [
        "linked.unlink()"
      ]
    },
    {
      "cell_type": "code",
      "execution_count": null,
      "metadata": {
        "ExecuteTime": {
          "end_time": "2019-02-11T21:59:22.072554Z",
          "start_time": "2019-02-11T21:59:22.003500Z"
        },
        "id": "kgxj7kmSb6xF"
      },
      "outputs": [],
      "source": [
        "less_than.widget"
      ]
    },
    {
      "cell_type": "markdown",
      "metadata": {
        "id": "vT3DAPn8b6xF"
      },
      "source": [
        "# Conclusions\n",
        "\n",
        "These widgets are not going to change your life, but they do make notebooks closer to interactive dashboards. I've only shown you some of the capabilities so be sure to look at the [documentation for the full details]. The Jupyter Notebook is useful by itself, but with additional tools, it can be an even better data exploration and analysis technology. Thanks to the efforts of many developers and contributors to open-source, we have these great technologies, so we might as well get the most from these libraries! "
      ]
    },
    {
      "cell_type": "code",
      "execution_count": null,
      "metadata": {
        "ExecuteTime": {
          "end_time": "2019-02-11T21:59:22.128193Z",
          "start_time": "2019-02-11T21:59:22.074179Z"
        },
        "id": "ZPQ-cU1gb6xG"
      },
      "outputs": [],
      "source": [
        "cscales = ['Greys', 'YlGnBu', 'Greens', 'YlOrRd', 'Bluered', 'RdBu',\n",
        "            'Reds', 'Blues', 'Picnic', 'Rainbow', 'Portland', 'Jet',\n",
        "            'Hot', 'Blackbody', 'Earth', 'Electric', 'Viridis', 'Cividis']"
      ]
    },
    {
      "cell_type": "code",
      "execution_count": null,
      "metadata": {
        "ExecuteTime": {
          "end_time": "2019-02-11T21:59:22.211843Z",
          "start_time": "2019-02-11T21:59:22.130241Z"
        },
        "id": "1mDf_KuHb6xG"
      },
      "outputs": [],
      "source": [
        "import plotly.figure_factory as ff\n",
        "\n",
        "corrs = df.corr()\n",
        "\n",
        "@interact_manual\n",
        "def plot_corrs(colorscale=cscales):\n",
        "    figure = ff.create_annotated_heatmap(z = corrs.round(2).values, \n",
        "                                     x =list(corrs.columns), \n",
        "                                     y=list(corrs.index), \n",
        "                                     colorscale=colorscale,\n",
        "                                     annotation_text=corrs.round(2).values)\n",
        "    iplot(figure)"
      ]
    },
    {
      "cell_type": "code",
      "execution_count": null,
      "metadata": {
        "ExecuteTime": {
          "end_time": "2019-02-11T21:59:22.438146Z",
          "start_time": "2019-02-11T21:59:22.213746Z"
        },
        "id": "Y489MMsQb6xG"
      },
      "outputs": [],
      "source": [
        "@interact\n",
        "def plot_spread(column1=['claps', 'views', 'read', 'word_count'], \n",
        "                 column2=['views', 'claps', 'read', 'word_count']):\n",
        "    df.iplot(kind='ratio',\n",
        "                                                   y=column1,\n",
        "                                                   secondary_y=column2,\n",
        "                                                   title=f'{column1.title()} and {column2.title()} Spread Plot',\n",
        "                                 xTitle='Published Date')"
      ]
    },
    {
      "cell_type": "code",
      "execution_count": null,
      "metadata": {
        "id": "-6iGSlrlb6xG"
      },
      "outputs": [],
      "source": [
        ""
      ]
    }
  ],
  "metadata": {
    "hide_input": false,
    "kernelspec": {
      "display_name": "Python 3",
      "language": "python",
      "name": "python3"
    },
    "language_info": {
      "codemirror_mode": {
        "name": "ipython",
        "version": 3
      },
      "file_extension": ".py",
      "mimetype": "text/x-python",
      "name": "python",
      "nbconvert_exporter": "python",
      "pygments_lexer": "ipython3",
      "version": "3.6.5"
    },
    "toc": {
      "base_numbering": 1,
      "nav_menu": {},
      "number_sections": true,
      "sideBar": true,
      "skip_h1_title": false,
      "title_cell": "Table of Contents",
      "title_sidebar": "Contents",
      "toc_cell": false,
      "toc_position": {},
      "toc_section_display": true,
      "toc_window_display": false
    },
    "varInspector": {
      "cols": {
        "lenName": 16,
        "lenType": 16,
        "lenVar": 40
      },
      "kernels_config": {
        "python": {
          "delete_cmd_postfix": "",
          "delete_cmd_prefix": "del ",
          "library": "var_list.py",
          "varRefreshCmd": "print(var_dic_list())"
        },
        "r": {
          "delete_cmd_postfix": ") ",
          "delete_cmd_prefix": "rm(",
          "library": "var_list.r",
          "varRefreshCmd": "cat(var_dic_list()) "
        }
      },
      "types_to_exclude": [
        "module",
        "function",
        "builtin_function_or_method",
        "instance",
        "_Feature"
      ],
      "window_display": false
    },
    "colab": {
      "name": "Widgets-Overview.ipynb",
      "provenance": []
    },
    "widgets": {
      "application/vnd.jupyter.widget-state+json": {
        "129aab2c33774544b580caa4d84d53de": {
          "model_module": "@jupyter-widgets/controls",
          "model_name": "VBoxModel",
          "model_module_version": "1.5.0",
          "state": {
            "_dom_classes": [
              "widget-interact"
            ],
            "_model_module": "@jupyter-widgets/controls",
            "_model_module_version": "1.5.0",
            "_model_name": "VBoxModel",
            "_view_count": null,
            "_view_module": "@jupyter-widgets/controls",
            "_view_module_version": "1.5.0",
            "_view_name": "VBoxView",
            "box_style": "",
            "children": [
              "IPY_MODEL_81002dd244b84e459d498d8dcaa3cd9d",
              "IPY_MODEL_4fccb75e83844433a43bf6899aa42920",
              "IPY_MODEL_f8e15c8f4e814766b7c497fda3967117"
            ],
            "layout": "IPY_MODEL_70d5b36323fd44b1a4f657a9ae982ead"
          }
        },
        "81002dd244b84e459d498d8dcaa3cd9d": {
          "model_module": "@jupyter-widgets/controls",
          "model_name": "TextModel",
          "model_module_version": "1.5.0",
          "state": {
            "_dom_classes": [],
            "_model_module": "@jupyter-widgets/controls",
            "_model_module_version": "1.5.0",
            "_model_name": "TextModel",
            "_view_count": null,
            "_view_module": "@jupyter-widgets/controls",
            "_view_module_version": "1.5.0",
            "_view_name": "TextView",
            "continuous_update": true,
            "description": "column",
            "description_tooltip": null,
            "disabled": false,
            "layout": "IPY_MODEL_c99e3599cb6041fb8cf04fa795a158e4",
            "placeholder": "​",
            "style": "IPY_MODEL_1ff75ef074e2411991aa29e9d80a181b",
            "value": "claps"
          }
        },
        "4fccb75e83844433a43bf6899aa42920": {
          "model_module": "@jupyter-widgets/controls",
          "model_name": "IntSliderModel",
          "model_module_version": "1.5.0",
          "state": {
            "_dom_classes": [],
            "_model_module": "@jupyter-widgets/controls",
            "_model_module_version": "1.5.0",
            "_model_name": "IntSliderModel",
            "_view_count": null,
            "_view_module": "@jupyter-widgets/controls",
            "_view_module_version": "1.5.0",
            "_view_name": "IntSliderView",
            "continuous_update": true,
            "description": "x",
            "description_tooltip": null,
            "disabled": false,
            "layout": "IPY_MODEL_91e9e8532f134c16a5fabd851879af96",
            "max": 15000,
            "min": -5000,
            "orientation": "horizontal",
            "readout": true,
            "readout_format": "d",
            "step": 1,
            "style": "IPY_MODEL_9735c5e694284bc4a14e15001970633e",
            "value": -1434
          }
        },
        "f8e15c8f4e814766b7c497fda3967117": {
          "model_module": "@jupyter-widgets/output",
          "model_name": "OutputModel",
          "model_module_version": "1.0.0",
          "state": {
            "_dom_classes": [],
            "_model_module": "@jupyter-widgets/output",
            "_model_module_version": "1.0.0",
            "_model_name": "OutputModel",
            "_view_count": null,
            "_view_module": "@jupyter-widgets/output",
            "_view_module_version": "1.0.0",
            "_view_name": "OutputView",
            "layout": "IPY_MODEL_111a4327fd184864a0a73c147eb4af94",
            "msg_id": "",
            "outputs": [
              {
                "output_type": "display_data",
                "data": {
                  "text/plain": "<IPython.core.display.HTML object>",
                  "text/html": "<h2>Showing articles with more than -1434 claps<h2>"
                },
                "metadata": {}
              },
              {
                "output_type": "display_data",
                "data": {
                  "text/plain": "                                                 title      published_date  \\\n129    Screw the Environment, but Consider Your Wallet 2017-06-10 14:25:00   \n125          The Vanquishing of War, Plague and Famine 2017-06-17 22:02:00   \n132  Capstone Project: Mercedes-Benz Greener Manufa... 2017-06-30 12:55:00   \n126                                 Home of the Scared 2017-07-01 09:08:00   \n121                               The Triumph of Peace 2017-07-05 08:51:00   \n..                                                 ...                 ...   \n6    The Reality of Global Nuclear Weapons and How ... 2019-01-12 13:33:00   \n3                               The Myth of Us vs Them 2019-01-16 16:44:00   \n5    The Poisson Distribution and Poisson Process E... 2019-01-20 16:28:00   \n1                    A Great Public Health Conspiracy? 2019-01-25 08:30:00   \n17           Interactive Controls in Jupyter Notebooks 2019-01-27 16:23:00   \n\n     read_time                                               tags  views  \\\n129          7                        [Climate Change, Economics]    166   \n125         14      [Climate Change, Humanity, Optimism, History]    178   \n132         42        [Machine Learning, Python, Udacity, Kaggle]   1109   \n126          9           [Politics, Books, News, Media Criticism]     53   \n121         14             [Books, Psychology, History, Humanism]     59   \n..         ...                                                ...    ...   \n6           11  [The Reality Project, Data Journalism, Data, E...   1372   \n3           10  [Data, Education, The Reality Project, Data Jo...   1005   \n5           14  [Statistics, Data Science, Towards Data Scienc...   8806   \n1           13  [Health, Data, Data Journalism, The Reality Pr...    559   \n17           6  [Data Science, Towards Data Science, Education...    693   \n\n     reads  \n129     70  \n125     54  \n132    222  \n126     19  \n121      5  \n..     ...  \n6      343  \n3      266  \n5     2320  \n1       96  \n17     165  \n\n[133 rows x 6 columns]",
                  "text/html": "\n  <div id=\"df-6c5a6cc0-101a-405c-b743-dfb84b36bf88\">\n    <div class=\"colab-df-container\">\n      <div>\n<style scoped>\n    .dataframe tbody tr th:only-of-type {\n        vertical-align: middle;\n    }\n\n    .dataframe tbody tr th {\n        vertical-align: top;\n    }\n\n    .dataframe thead th {\n        text-align: right;\n    }\n</style>\n<table border=\"1\" class=\"dataframe\">\n  <thead>\n    <tr style=\"text-align: right;\">\n      <th></th>\n      <th>title</th>\n      <th>published_date</th>\n      <th>read_time</th>\n      <th>tags</th>\n      <th>views</th>\n      <th>reads</th>\n    </tr>\n  </thead>\n  <tbody>\n    <tr>\n      <th>129</th>\n      <td>Screw the Environment, but Consider Your Wallet</td>\n      <td>2017-06-10 14:25:00</td>\n      <td>7</td>\n      <td>[Climate Change, Economics]</td>\n      <td>166</td>\n      <td>70</td>\n    </tr>\n    <tr>\n      <th>125</th>\n      <td>The Vanquishing of War, Plague and Famine</td>\n      <td>2017-06-17 22:02:00</td>\n      <td>14</td>\n      <td>[Climate Change, Humanity, Optimism, History]</td>\n      <td>178</td>\n      <td>54</td>\n    </tr>\n    <tr>\n      <th>132</th>\n      <td>Capstone Project: Mercedes-Benz Greener Manufa...</td>\n      <td>2017-06-30 12:55:00</td>\n      <td>42</td>\n      <td>[Machine Learning, Python, Udacity, Kaggle]</td>\n      <td>1109</td>\n      <td>222</td>\n    </tr>\n    <tr>\n      <th>126</th>\n      <td>Home of the Scared</td>\n      <td>2017-07-01 09:08:00</td>\n      <td>9</td>\n      <td>[Politics, Books, News, Media Criticism]</td>\n      <td>53</td>\n      <td>19</td>\n    </tr>\n    <tr>\n      <th>121</th>\n      <td>The Triumph of Peace</td>\n      <td>2017-07-05 08:51:00</td>\n      <td>14</td>\n      <td>[Books, Psychology, History, Humanism]</td>\n      <td>59</td>\n      <td>5</td>\n    </tr>\n    <tr>\n      <th>...</th>\n      <td>...</td>\n      <td>...</td>\n      <td>...</td>\n      <td>...</td>\n      <td>...</td>\n      <td>...</td>\n    </tr>\n    <tr>\n      <th>6</th>\n      <td>The Reality of Global Nuclear Weapons and How ...</td>\n      <td>2019-01-12 13:33:00</td>\n      <td>11</td>\n      <td>[The Reality Project, Data Journalism, Data, E...</td>\n      <td>1372</td>\n      <td>343</td>\n    </tr>\n    <tr>\n      <th>3</th>\n      <td>The Myth of Us vs Them</td>\n      <td>2019-01-16 16:44:00</td>\n      <td>10</td>\n      <td>[Data, Education, The Reality Project, Data Jo...</td>\n      <td>1005</td>\n      <td>266</td>\n    </tr>\n    <tr>\n      <th>5</th>\n      <td>The Poisson Distribution and Poisson Process E...</td>\n      <td>2019-01-20 16:28:00</td>\n      <td>14</td>\n      <td>[Statistics, Data Science, Towards Data Scienc...</td>\n      <td>8806</td>\n      <td>2320</td>\n    </tr>\n    <tr>\n      <th>1</th>\n      <td>A Great Public Health Conspiracy?</td>\n      <td>2019-01-25 08:30:00</td>\n      <td>13</td>\n      <td>[Health, Data, Data Journalism, The Reality Pr...</td>\n      <td>559</td>\n      <td>96</td>\n    </tr>\n    <tr>\n      <th>17</th>\n      <td>Interactive Controls in Jupyter Notebooks</td>\n      <td>2019-01-27 16:23:00</td>\n      <td>6</td>\n      <td>[Data Science, Towards Data Science, Education...</td>\n      <td>693</td>\n      <td>165</td>\n    </tr>\n  </tbody>\n</table>\n<p>133 rows × 6 columns</p>\n</div>\n      <button class=\"colab-df-convert\" onclick=\"convertToInteractive('df-6c5a6cc0-101a-405c-b743-dfb84b36bf88')\"\n              title=\"Convert this dataframe to an interactive table.\"\n              style=\"display:none;\">\n        \n  <svg xmlns=\"http://www.w3.org/2000/svg\" height=\"24px\"viewBox=\"0 0 24 24\"\n       width=\"24px\">\n    <path d=\"M0 0h24v24H0V0z\" fill=\"none\"/>\n    <path d=\"M18.56 5.44l.94 2.06.94-2.06 2.06-.94-2.06-.94-.94-2.06-.94 2.06-2.06.94zm-11 1L8.5 8.5l.94-2.06 2.06-.94-2.06-.94L8.5 2.5l-.94 2.06-2.06.94zm10 10l.94 2.06.94-2.06 2.06-.94-2.06-.94-.94-2.06-.94 2.06-2.06.94z\"/><path d=\"M17.41 7.96l-1.37-1.37c-.4-.4-.92-.59-1.43-.59-.52 0-1.04.2-1.43.59L10.3 9.45l-7.72 7.72c-.78.78-.78 2.05 0 2.83L4 21.41c.39.39.9.59 1.41.59.51 0 1.02-.2 1.41-.59l7.78-7.78 2.81-2.81c.8-.78.8-2.07 0-2.86zM5.41 20L4 18.59l7.72-7.72 1.47 1.35L5.41 20z\"/>\n  </svg>\n      </button>\n      \n  <style>\n    .colab-df-container {\n      display:flex;\n      flex-wrap:wrap;\n      gap: 12px;\n    }\n\n    .colab-df-convert {\n      background-color: #E8F0FE;\n      border: none;\n      border-radius: 50%;\n      cursor: pointer;\n      display: none;\n      fill: #1967D2;\n      height: 32px;\n      padding: 0 0 0 0;\n      width: 32px;\n    }\n\n    .colab-df-convert:hover {\n      background-color: #E2EBFA;\n      box-shadow: 0px 1px 2px rgba(60, 64, 67, 0.3), 0px 1px 3px 1px rgba(60, 64, 67, 0.15);\n      fill: #174EA6;\n    }\n\n    [theme=dark] .colab-df-convert {\n      background-color: #3B4455;\n      fill: #D2E3FC;\n    }\n\n    [theme=dark] .colab-df-convert:hover {\n      background-color: #434B5C;\n      box-shadow: 0px 1px 3px 1px rgba(0, 0, 0, 0.15);\n      filter: drop-shadow(0px 1px 2px rgba(0, 0, 0, 0.3));\n      fill: #FFFFFF;\n    }\n  </style>\n\n      <script>\n        const buttonEl =\n          document.querySelector('#df-6c5a6cc0-101a-405c-b743-dfb84b36bf88 button.colab-df-convert');\n        buttonEl.style.display =\n          google.colab.kernel.accessAllowed ? 'block' : 'none';\n\n        async function convertToInteractive(key) {\n          const element = document.querySelector('#df-6c5a6cc0-101a-405c-b743-dfb84b36bf88');\n          const dataTable =\n            await google.colab.kernel.invokeFunction('convertToInteractive',\n                                                     [key], {});\n          if (!dataTable) return;\n\n          const docLinkHtml = 'Like what you see? Visit the ' +\n            '<a target=\"_blank\" href=https://colab.research.google.com/notebooks/data_table.ipynb>data table notebook</a>'\n            + ' to learn more about interactive tables.';\n          element.innerHTML = '';\n          dataTable['output_type'] = 'display_data';\n          await google.colab.output.renderOutput(dataTable, element);\n          const docLink = document.createElement('div');\n          docLink.innerHTML = docLinkHtml;\n          element.appendChild(docLink);\n        }\n      </script>\n    </div>\n  </div>\n  "
                },
                "metadata": {}
              }
            ]
          }
        },
        "70d5b36323fd44b1a4f657a9ae982ead": {
          "model_module": "@jupyter-widgets/base",
          "model_name": "LayoutModel",
          "model_module_version": "1.2.0",
          "state": {
            "_model_module": "@jupyter-widgets/base",
            "_model_module_version": "1.2.0",
            "_model_name": "LayoutModel",
            "_view_count": null,
            "_view_module": "@jupyter-widgets/base",
            "_view_module_version": "1.2.0",
            "_view_name": "LayoutView",
            "align_content": null,
            "align_items": null,
            "align_self": null,
            "border": null,
            "bottom": null,
            "display": null,
            "flex": null,
            "flex_flow": null,
            "grid_area": null,
            "grid_auto_columns": null,
            "grid_auto_flow": null,
            "grid_auto_rows": null,
            "grid_column": null,
            "grid_gap": null,
            "grid_row": null,
            "grid_template_areas": null,
            "grid_template_columns": null,
            "grid_template_rows": null,
            "height": null,
            "justify_content": null,
            "justify_items": null,
            "left": null,
            "margin": null,
            "max_height": null,
            "max_width": null,
            "min_height": null,
            "min_width": null,
            "object_fit": null,
            "object_position": null,
            "order": null,
            "overflow": null,
            "overflow_x": null,
            "overflow_y": null,
            "padding": null,
            "right": null,
            "top": null,
            "visibility": null,
            "width": null
          }
        },
        "c99e3599cb6041fb8cf04fa795a158e4": {
          "model_module": "@jupyter-widgets/base",
          "model_name": "LayoutModel",
          "model_module_version": "1.2.0",
          "state": {
            "_model_module": "@jupyter-widgets/base",
            "_model_module_version": "1.2.0",
            "_model_name": "LayoutModel",
            "_view_count": null,
            "_view_module": "@jupyter-widgets/base",
            "_view_module_version": "1.2.0",
            "_view_name": "LayoutView",
            "align_content": null,
            "align_items": null,
            "align_self": null,
            "border": null,
            "bottom": null,
            "display": null,
            "flex": null,
            "flex_flow": null,
            "grid_area": null,
            "grid_auto_columns": null,
            "grid_auto_flow": null,
            "grid_auto_rows": null,
            "grid_column": null,
            "grid_gap": null,
            "grid_row": null,
            "grid_template_areas": null,
            "grid_template_columns": null,
            "grid_template_rows": null,
            "height": null,
            "justify_content": null,
            "justify_items": null,
            "left": null,
            "margin": null,
            "max_height": null,
            "max_width": null,
            "min_height": null,
            "min_width": null,
            "object_fit": null,
            "object_position": null,
            "order": null,
            "overflow": null,
            "overflow_x": null,
            "overflow_y": null,
            "padding": null,
            "right": null,
            "top": null,
            "visibility": null,
            "width": null
          }
        },
        "1ff75ef074e2411991aa29e9d80a181b": {
          "model_module": "@jupyter-widgets/controls",
          "model_name": "DescriptionStyleModel",
          "model_module_version": "1.5.0",
          "state": {
            "_model_module": "@jupyter-widgets/controls",
            "_model_module_version": "1.5.0",
            "_model_name": "DescriptionStyleModel",
            "_view_count": null,
            "_view_module": "@jupyter-widgets/base",
            "_view_module_version": "1.2.0",
            "_view_name": "StyleView",
            "description_width": ""
          }
        },
        "91e9e8532f134c16a5fabd851879af96": {
          "model_module": "@jupyter-widgets/base",
          "model_name": "LayoutModel",
          "model_module_version": "1.2.0",
          "state": {
            "_model_module": "@jupyter-widgets/base",
            "_model_module_version": "1.2.0",
            "_model_name": "LayoutModel",
            "_view_count": null,
            "_view_module": "@jupyter-widgets/base",
            "_view_module_version": "1.2.0",
            "_view_name": "LayoutView",
            "align_content": null,
            "align_items": null,
            "align_self": null,
            "border": null,
            "bottom": null,
            "display": null,
            "flex": null,
            "flex_flow": null,
            "grid_area": null,
            "grid_auto_columns": null,
            "grid_auto_flow": null,
            "grid_auto_rows": null,
            "grid_column": null,
            "grid_gap": null,
            "grid_row": null,
            "grid_template_areas": null,
            "grid_template_columns": null,
            "grid_template_rows": null,
            "height": null,
            "justify_content": null,
            "justify_items": null,
            "left": null,
            "margin": null,
            "max_height": null,
            "max_width": null,
            "min_height": null,
            "min_width": null,
            "object_fit": null,
            "object_position": null,
            "order": null,
            "overflow": null,
            "overflow_x": null,
            "overflow_y": null,
            "padding": null,
            "right": null,
            "top": null,
            "visibility": null,
            "width": null
          }
        },
        "9735c5e694284bc4a14e15001970633e": {
          "model_module": "@jupyter-widgets/controls",
          "model_name": "SliderStyleModel",
          "model_module_version": "1.5.0",
          "state": {
            "_model_module": "@jupyter-widgets/controls",
            "_model_module_version": "1.5.0",
            "_model_name": "SliderStyleModel",
            "_view_count": null,
            "_view_module": "@jupyter-widgets/base",
            "_view_module_version": "1.2.0",
            "_view_name": "StyleView",
            "description_width": "",
            "handle_color": null
          }
        },
        "111a4327fd184864a0a73c147eb4af94": {
          "model_module": "@jupyter-widgets/base",
          "model_name": "LayoutModel",
          "model_module_version": "1.2.0",
          "state": {
            "_model_module": "@jupyter-widgets/base",
            "_model_module_version": "1.2.0",
            "_model_name": "LayoutModel",
            "_view_count": null,
            "_view_module": "@jupyter-widgets/base",
            "_view_module_version": "1.2.0",
            "_view_name": "LayoutView",
            "align_content": null,
            "align_items": null,
            "align_self": null,
            "border": null,
            "bottom": null,
            "display": null,
            "flex": null,
            "flex_flow": null,
            "grid_area": null,
            "grid_auto_columns": null,
            "grid_auto_flow": null,
            "grid_auto_rows": null,
            "grid_column": null,
            "grid_gap": null,
            "grid_row": null,
            "grid_template_areas": null,
            "grid_template_columns": null,
            "grid_template_rows": null,
            "height": null,
            "justify_content": null,
            "justify_items": null,
            "left": null,
            "margin": null,
            "max_height": null,
            "max_width": null,
            "min_height": null,
            "min_width": null,
            "object_fit": null,
            "object_position": null,
            "order": null,
            "overflow": null,
            "overflow_x": null,
            "overflow_y": null,
            "padding": null,
            "right": null,
            "top": null,
            "visibility": null,
            "width": null
          }
        },
        "bb849e2e0fdb432782a63ef156e7ae89": {
          "model_module": "@jupyter-widgets/controls",
          "model_name": "VBoxModel",
          "model_module_version": "1.5.0",
          "state": {
            "_dom_classes": [
              "widget-interact"
            ],
            "_model_module": "@jupyter-widgets/controls",
            "_model_module_version": "1.5.0",
            "_model_name": "VBoxModel",
            "_view_count": null,
            "_view_module": "@jupyter-widgets/controls",
            "_view_module_version": "1.5.0",
            "_view_name": "VBoxView",
            "box_style": "",
            "children": [
              "IPY_MODEL_9040fa1fb04e431fa3a2dbe0f9bbc9e6",
              "IPY_MODEL_d5884c21240e4326aa23f98f473344ed",
              "IPY_MODEL_d21ceb19f76b4182b755de0040ed1b08"
            ],
            "layout": "IPY_MODEL_19f8370705d347499a1a9d8826177972"
          }
        },
        "9040fa1fb04e431fa3a2dbe0f9bbc9e6": {
          "model_module": "@jupyter-widgets/controls",
          "model_name": "IntSliderModel",
          "model_module_version": "1.5.0",
          "state": {
            "_dom_classes": [],
            "_model_module": "@jupyter-widgets/controls",
            "_model_module_version": "1.5.0",
            "_model_name": "IntSliderModel",
            "_view_count": null,
            "_view_module": "@jupyter-widgets/controls",
            "_view_module_version": "1.5.0",
            "_view_name": "IntSliderView",
            "continuous_update": true,
            "description": "x",
            "description_tooltip": null,
            "disabled": false,
            "layout": "IPY_MODEL_ccc026dc291444648328037cf99ceb19",
            "max": 5000,
            "min": 1000,
            "orientation": "horizontal",
            "readout": true,
            "readout_format": "d",
            "step": 100,
            "style": "IPY_MODEL_6f6aa32d3f254352b6bb9928fad7cf74",
            "value": 2800
          }
        },
        "d5884c21240e4326aa23f98f473344ed": {
          "model_module": "@jupyter-widgets/controls",
          "model_name": "DropdownModel",
          "model_module_version": "1.5.0",
          "state": {
            "_dom_classes": [],
            "_model_module": "@jupyter-widgets/controls",
            "_model_module_version": "1.5.0",
            "_model_name": "DropdownModel",
            "_options_labels": [
              "claps",
              "days_since_publication",
              "fans",
              "num_responses",
              "read_ratio",
              "read_time",
              "reads",
              "title_word_count",
              "views",
              "word_count",
              "claps_per_word",
              "editing_days",
              "<tag>Education",
              "<tag>Data Science",
              "<tag>Towards Data Science",
              "<tag>Machine Learning",
              "<tag>Python"
            ],
            "_view_count": null,
            "_view_module": "@jupyter-widgets/controls",
            "_view_module_version": "1.5.0",
            "_view_name": "DropdownView",
            "description": "column",
            "description_tooltip": null,
            "disabled": false,
            "index": 8,
            "layout": "IPY_MODEL_8626a62c23784d0fa115430eae70ce18",
            "style": "IPY_MODEL_ede4e353f4b24c8db1ead9b75bad799e"
          }
        },
        "d21ceb19f76b4182b755de0040ed1b08": {
          "model_module": "@jupyter-widgets/output",
          "model_name": "OutputModel",
          "model_module_version": "1.0.0",
          "state": {
            "_dom_classes": [],
            "_model_module": "@jupyter-widgets/output",
            "_model_module_version": "1.0.0",
            "_model_name": "OutputModel",
            "_view_count": null,
            "_view_module": "@jupyter-widgets/output",
            "_view_module_version": "1.0.0",
            "_view_name": "OutputView",
            "layout": "IPY_MODEL_38c6d45a23764b1e80009deb5f6963b6",
            "msg_id": "",
            "outputs": [
              {
                "output_type": "display_data",
                "data": {
                  "text/plain": "                                                 title      published_date  \\\n131                     Deep Neural Network Classifier 2017-07-25 17:54:00   \n122  Object Recognition with Google’s Convolutional... 2017-07-27 21:17:00   \n127  Facial Recognition Using Google’s Convolutiona... 2017-08-07 14:24:00   \n124                   Exploratory Data Analysis with R 2017-08-08 12:58:00   \n119                          Data Analysis with Python 2017-08-12 15:17:00   \n..                                                 ...                 ...   \n12   The Copernican Principle and How to Use Statis... 2018-12-29 11:36:00   \n8       Data Science with Medium Story Stats in Python 2018-12-31 17:53:00   \n19      The Next Level of Data Visualization in Python 2019-01-08 22:09:00   \n2        A Non-Technical Reading List for Data Science 2019-01-10 15:14:00   \n5    The Poisson Distribution and Poisson Process E... 2019-01-20 16:28:00   \n\n     read_time                                               tags  views  \\\n131         14  [Machine Learning, Neural Networks, TensorFlow...   9723   \n122         12  [Machine Learning, Neural Networks, Python, Ob...  24079   \n127         38  [Machine Learning, Python, Neural Networks, Fa...  28387   \n124         43  [Data Science, R Programming, Data Analysis, U...   4174   \n119         29  [Python, Data Analysis, Data Visualization, Ba...   5581   \n..         ...                                                ...    ...   \n12           8  [Science, Towards Data Science, Education, Sta...   5070   \n8           12  [Data Science, Towards Data Science, Python, E...   3768   \n19           8  [Data Science, Data Visualization, Python, Edu...  71225   \n2           15  [Data Science, Reading, Education, Towards Dat...  15291   \n5           14  [Statistics, Data Science, Towards Data Scienc...   8806   \n\n     reads  \n131   1717  \n122   5690  \n127   3992  \n124    509  \n119    664  \n..     ...  \n12    1517  \n8      754  \n19   24002  \n2     2809  \n5     2320  \n\n[90 rows x 6 columns]",
                  "text/html": "\n  <div id=\"df-3bf57016-cfd8-40c4-ae27-3307172a5829\">\n    <div class=\"colab-df-container\">\n      <div>\n<style scoped>\n    .dataframe tbody tr th:only-of-type {\n        vertical-align: middle;\n    }\n\n    .dataframe tbody tr th {\n        vertical-align: top;\n    }\n\n    .dataframe thead th {\n        text-align: right;\n    }\n</style>\n<table border=\"1\" class=\"dataframe\">\n  <thead>\n    <tr style=\"text-align: right;\">\n      <th></th>\n      <th>title</th>\n      <th>published_date</th>\n      <th>read_time</th>\n      <th>tags</th>\n      <th>views</th>\n      <th>reads</th>\n    </tr>\n  </thead>\n  <tbody>\n    <tr>\n      <th>131</th>\n      <td>Deep Neural Network Classifier</td>\n      <td>2017-07-25 17:54:00</td>\n      <td>14</td>\n      <td>[Machine Learning, Neural Networks, TensorFlow...</td>\n      <td>9723</td>\n      <td>1717</td>\n    </tr>\n    <tr>\n      <th>122</th>\n      <td>Object Recognition with Google’s Convolutional...</td>\n      <td>2017-07-27 21:17:00</td>\n      <td>12</td>\n      <td>[Machine Learning, Neural Networks, Python, Ob...</td>\n      <td>24079</td>\n      <td>5690</td>\n    </tr>\n    <tr>\n      <th>127</th>\n      <td>Facial Recognition Using Google’s Convolutiona...</td>\n      <td>2017-08-07 14:24:00</td>\n      <td>38</td>\n      <td>[Machine Learning, Python, Neural Networks, Fa...</td>\n      <td>28387</td>\n      <td>3992</td>\n    </tr>\n    <tr>\n      <th>124</th>\n      <td>Exploratory Data Analysis with R</td>\n      <td>2017-08-08 12:58:00</td>\n      <td>43</td>\n      <td>[Data Science, R Programming, Data Analysis, U...</td>\n      <td>4174</td>\n      <td>509</td>\n    </tr>\n    <tr>\n      <th>119</th>\n      <td>Data Analysis with Python</td>\n      <td>2017-08-12 15:17:00</td>\n      <td>29</td>\n      <td>[Python, Data Analysis, Data Visualization, Ba...</td>\n      <td>5581</td>\n      <td>664</td>\n    </tr>\n    <tr>\n      <th>...</th>\n      <td>...</td>\n      <td>...</td>\n      <td>...</td>\n      <td>...</td>\n      <td>...</td>\n      <td>...</td>\n    </tr>\n    <tr>\n      <th>12</th>\n      <td>The Copernican Principle and How to Use Statis...</td>\n      <td>2018-12-29 11:36:00</td>\n      <td>8</td>\n      <td>[Science, Towards Data Science, Education, Sta...</td>\n      <td>5070</td>\n      <td>1517</td>\n    </tr>\n    <tr>\n      <th>8</th>\n      <td>Data Science with Medium Story Stats in Python</td>\n      <td>2018-12-31 17:53:00</td>\n      <td>12</td>\n      <td>[Data Science, Towards Data Science, Python, E...</td>\n      <td>3768</td>\n      <td>754</td>\n    </tr>\n    <tr>\n      <th>19</th>\n      <td>The Next Level of Data Visualization in Python</td>\n      <td>2019-01-08 22:09:00</td>\n      <td>8</td>\n      <td>[Data Science, Data Visualization, Python, Edu...</td>\n      <td>71225</td>\n      <td>24002</td>\n    </tr>\n    <tr>\n      <th>2</th>\n      <td>A Non-Technical Reading List for Data Science</td>\n      <td>2019-01-10 15:14:00</td>\n      <td>15</td>\n      <td>[Data Science, Reading, Education, Towards Dat...</td>\n      <td>15291</td>\n      <td>2809</td>\n    </tr>\n    <tr>\n      <th>5</th>\n      <td>The Poisson Distribution and Poisson Process E...</td>\n      <td>2019-01-20 16:28:00</td>\n      <td>14</td>\n      <td>[Statistics, Data Science, Towards Data Scienc...</td>\n      <td>8806</td>\n      <td>2320</td>\n    </tr>\n  </tbody>\n</table>\n<p>90 rows × 6 columns</p>\n</div>\n      <button class=\"colab-df-convert\" onclick=\"convertToInteractive('df-3bf57016-cfd8-40c4-ae27-3307172a5829')\"\n              title=\"Convert this dataframe to an interactive table.\"\n              style=\"display:none;\">\n        \n  <svg xmlns=\"http://www.w3.org/2000/svg\" height=\"24px\"viewBox=\"0 0 24 24\"\n       width=\"24px\">\n    <path d=\"M0 0h24v24H0V0z\" fill=\"none\"/>\n    <path d=\"M18.56 5.44l.94 2.06.94-2.06 2.06-.94-2.06-.94-.94-2.06-.94 2.06-2.06.94zm-11 1L8.5 8.5l.94-2.06 2.06-.94-2.06-.94L8.5 2.5l-.94 2.06-2.06.94zm10 10l.94 2.06.94-2.06 2.06-.94-2.06-.94-.94-2.06-.94 2.06-2.06.94z\"/><path d=\"M17.41 7.96l-1.37-1.37c-.4-.4-.92-.59-1.43-.59-.52 0-1.04.2-1.43.59L10.3 9.45l-7.72 7.72c-.78.78-.78 2.05 0 2.83L4 21.41c.39.39.9.59 1.41.59.51 0 1.02-.2 1.41-.59l7.78-7.78 2.81-2.81c.8-.78.8-2.07 0-2.86zM5.41 20L4 18.59l7.72-7.72 1.47 1.35L5.41 20z\"/>\n  </svg>\n      </button>\n      \n  <style>\n    .colab-df-container {\n      display:flex;\n      flex-wrap:wrap;\n      gap: 12px;\n    }\n\n    .colab-df-convert {\n      background-color: #E8F0FE;\n      border: none;\n      border-radius: 50%;\n      cursor: pointer;\n      display: none;\n      fill: #1967D2;\n      height: 32px;\n      padding: 0 0 0 0;\n      width: 32px;\n    }\n\n    .colab-df-convert:hover {\n      background-color: #E2EBFA;\n      box-shadow: 0px 1px 2px rgba(60, 64, 67, 0.3), 0px 1px 3px 1px rgba(60, 64, 67, 0.15);\n      fill: #174EA6;\n    }\n\n    [theme=dark] .colab-df-convert {\n      background-color: #3B4455;\n      fill: #D2E3FC;\n    }\n\n    [theme=dark] .colab-df-convert:hover {\n      background-color: #434B5C;\n      box-shadow: 0px 1px 3px 1px rgba(0, 0, 0, 0.15);\n      filter: drop-shadow(0px 1px 2px rgba(0, 0, 0, 0.3));\n      fill: #FFFFFF;\n    }\n  </style>\n\n      <script>\n        const buttonEl =\n          document.querySelector('#df-3bf57016-cfd8-40c4-ae27-3307172a5829 button.colab-df-convert');\n        buttonEl.style.display =\n          google.colab.kernel.accessAllowed ? 'block' : 'none';\n\n        async function convertToInteractive(key) {\n          const element = document.querySelector('#df-3bf57016-cfd8-40c4-ae27-3307172a5829');\n          const dataTable =\n            await google.colab.kernel.invokeFunction('convertToInteractive',\n                                                     [key], {});\n          if (!dataTable) return;\n\n          const docLinkHtml = 'Like what you see? Visit the ' +\n            '<a target=\"_blank\" href=https://colab.research.google.com/notebooks/data_table.ipynb>data table notebook</a>'\n            + ' to learn more about interactive tables.';\n          element.innerHTML = '';\n          dataTable['output_type'] = 'display_data';\n          await google.colab.output.renderOutput(dataTable, element);\n          const docLink = document.createElement('div');\n          docLink.innerHTML = docLinkHtml;\n          element.appendChild(docLink);\n        }\n      </script>\n    </div>\n  </div>\n  "
                },
                "metadata": {}
              }
            ]
          }
        },
        "19f8370705d347499a1a9d8826177972": {
          "model_module": "@jupyter-widgets/base",
          "model_name": "LayoutModel",
          "model_module_version": "1.2.0",
          "state": {
            "_model_module": "@jupyter-widgets/base",
            "_model_module_version": "1.2.0",
            "_model_name": "LayoutModel",
            "_view_count": null,
            "_view_module": "@jupyter-widgets/base",
            "_view_module_version": "1.2.0",
            "_view_name": "LayoutView",
            "align_content": null,
            "align_items": null,
            "align_self": null,
            "border": null,
            "bottom": null,
            "display": null,
            "flex": null,
            "flex_flow": null,
            "grid_area": null,
            "grid_auto_columns": null,
            "grid_auto_flow": null,
            "grid_auto_rows": null,
            "grid_column": null,
            "grid_gap": null,
            "grid_row": null,
            "grid_template_areas": null,
            "grid_template_columns": null,
            "grid_template_rows": null,
            "height": null,
            "justify_content": null,
            "justify_items": null,
            "left": null,
            "margin": null,
            "max_height": null,
            "max_width": null,
            "min_height": null,
            "min_width": null,
            "object_fit": null,
            "object_position": null,
            "order": null,
            "overflow": null,
            "overflow_x": null,
            "overflow_y": null,
            "padding": null,
            "right": null,
            "top": null,
            "visibility": null,
            "width": null
          }
        },
        "ccc026dc291444648328037cf99ceb19": {
          "model_module": "@jupyter-widgets/base",
          "model_name": "LayoutModel",
          "model_module_version": "1.2.0",
          "state": {
            "_model_module": "@jupyter-widgets/base",
            "_model_module_version": "1.2.0",
            "_model_name": "LayoutModel",
            "_view_count": null,
            "_view_module": "@jupyter-widgets/base",
            "_view_module_version": "1.2.0",
            "_view_name": "LayoutView",
            "align_content": null,
            "align_items": null,
            "align_self": null,
            "border": null,
            "bottom": null,
            "display": null,
            "flex": null,
            "flex_flow": null,
            "grid_area": null,
            "grid_auto_columns": null,
            "grid_auto_flow": null,
            "grid_auto_rows": null,
            "grid_column": null,
            "grid_gap": null,
            "grid_row": null,
            "grid_template_areas": null,
            "grid_template_columns": null,
            "grid_template_rows": null,
            "height": null,
            "justify_content": null,
            "justify_items": null,
            "left": null,
            "margin": null,
            "max_height": null,
            "max_width": null,
            "min_height": null,
            "min_width": null,
            "object_fit": null,
            "object_position": null,
            "order": null,
            "overflow": null,
            "overflow_x": null,
            "overflow_y": null,
            "padding": null,
            "right": null,
            "top": null,
            "visibility": null,
            "width": null
          }
        },
        "6f6aa32d3f254352b6bb9928fad7cf74": {
          "model_module": "@jupyter-widgets/controls",
          "model_name": "SliderStyleModel",
          "model_module_version": "1.5.0",
          "state": {
            "_model_module": "@jupyter-widgets/controls",
            "_model_module_version": "1.5.0",
            "_model_name": "SliderStyleModel",
            "_view_count": null,
            "_view_module": "@jupyter-widgets/base",
            "_view_module_version": "1.2.0",
            "_view_name": "StyleView",
            "description_width": "",
            "handle_color": null
          }
        },
        "8626a62c23784d0fa115430eae70ce18": {
          "model_module": "@jupyter-widgets/base",
          "model_name": "LayoutModel",
          "model_module_version": "1.2.0",
          "state": {
            "_model_module": "@jupyter-widgets/base",
            "_model_module_version": "1.2.0",
            "_model_name": "LayoutModel",
            "_view_count": null,
            "_view_module": "@jupyter-widgets/base",
            "_view_module_version": "1.2.0",
            "_view_name": "LayoutView",
            "align_content": null,
            "align_items": null,
            "align_self": null,
            "border": null,
            "bottom": null,
            "display": null,
            "flex": null,
            "flex_flow": null,
            "grid_area": null,
            "grid_auto_columns": null,
            "grid_auto_flow": null,
            "grid_auto_rows": null,
            "grid_column": null,
            "grid_gap": null,
            "grid_row": null,
            "grid_template_areas": null,
            "grid_template_columns": null,
            "grid_template_rows": null,
            "height": null,
            "justify_content": null,
            "justify_items": null,
            "left": null,
            "margin": null,
            "max_height": null,
            "max_width": null,
            "min_height": null,
            "min_width": null,
            "object_fit": null,
            "object_position": null,
            "order": null,
            "overflow": null,
            "overflow_x": null,
            "overflow_y": null,
            "padding": null,
            "right": null,
            "top": null,
            "visibility": null,
            "width": null
          }
        },
        "ede4e353f4b24c8db1ead9b75bad799e": {
          "model_module": "@jupyter-widgets/controls",
          "model_name": "DescriptionStyleModel",
          "model_module_version": "1.5.0",
          "state": {
            "_model_module": "@jupyter-widgets/controls",
            "_model_module_version": "1.5.0",
            "_model_name": "DescriptionStyleModel",
            "_view_count": null,
            "_view_module": "@jupyter-widgets/base",
            "_view_module_version": "1.2.0",
            "_view_name": "StyleView",
            "description_width": ""
          }
        },
        "38c6d45a23764b1e80009deb5f6963b6": {
          "model_module": "@jupyter-widgets/base",
          "model_name": "LayoutModel",
          "model_module_version": "1.2.0",
          "state": {
            "_model_module": "@jupyter-widgets/base",
            "_model_module_version": "1.2.0",
            "_model_name": "LayoutModel",
            "_view_count": null,
            "_view_module": "@jupyter-widgets/base",
            "_view_module_version": "1.2.0",
            "_view_name": "LayoutView",
            "align_content": null,
            "align_items": null,
            "align_self": null,
            "border": null,
            "bottom": null,
            "display": null,
            "flex": null,
            "flex_flow": null,
            "grid_area": null,
            "grid_auto_columns": null,
            "grid_auto_flow": null,
            "grid_auto_rows": null,
            "grid_column": null,
            "grid_gap": null,
            "grid_row": null,
            "grid_template_areas": null,
            "grid_template_columns": null,
            "grid_template_rows": null,
            "height": null,
            "justify_content": null,
            "justify_items": null,
            "left": null,
            "margin": null,
            "max_height": null,
            "max_width": null,
            "min_height": null,
            "min_width": null,
            "object_fit": null,
            "object_position": null,
            "order": null,
            "overflow": null,
            "overflow_x": null,
            "overflow_y": null,
            "padding": null,
            "right": null,
            "top": null,
            "visibility": null,
            "width": null
          }
        }
      }
    }
  },
  "nbformat": 4,
  "nbformat_minor": 0
}